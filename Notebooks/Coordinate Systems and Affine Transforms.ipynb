{
 "cells": [
  {
   "cell_type": "markdown",
   "metadata": {},
   "source": [
    "# Coordinate Reference Systems and Affine Transformations"
   ]
  },
  {
   "cell_type": "markdown",
   "metadata": {},
   "source": [
    "## What is a coordinate reference system (CRS)?"
   ]
  },
  {
   "cell_type": "markdown",
   "metadata": {},
   "source": [
    "Coordinate reference systems (CRS) are an integral part to **georeferencing** your data - or placing your data in space.  Without georeferencing raster datasets are just pretty images that could have been taken anywhere in the world.\n",
    "\n",
    "The CRS works together with the map projection to define how your dataset describes where each pixel is.\n",
    "\n",
    "There is a ton to know about CRSs and map projections.  A lot of this information falls under the purview of **geodesy** - the science of understanding and measureing the earth's shape.  For now we will just hit on a few major points."
   ]
  },
  {
   "cell_type": "markdown",
   "metadata": {},
   "source": [
    "### Some Quick Points about CRS"
   ]
  },
  {
   "cell_type": "markdown",
   "metadata": {},
   "source": [
    "**Number 1 - Two types of units**\n",
    "\n",
    "The units of your reference system probably fit into one of two categories:\n",
    "* units of degrees (ex. latitude and longitude) - geographic CRS\n",
    "* units of distance (ex. meters, kilometers, miles, ...) - projected CRS"
   ]
  },
  {
   "cell_type": "markdown",
   "metadata": {},
   "source": [
    "**Number 2 - EPSG codes**\n",
    "\n",
    "One common way to notate coordinate reference systems and map projections is with EPSG codes.  These codes assign an integer number to many of the common map projection/crs combinations."
   ]
  },
  {
   "cell_type": "markdown",
   "metadata": {},
   "source": [
    "## EPSG:4326"
   ]
  },
  {
   "cell_type": "markdown",
   "metadata": {},
   "source": [
    "EPSG:4326 in my experience is the most common map projection.  It is just regular latitude and longitude coordiantes."
   ]
  },
  {
   "cell_type": "markdown",
   "metadata": {},
   "source": [
    "## UTM Grids"
   ]
  },
  {
   "cell_type": "markdown",
   "metadata": {},
   "source": [
    "The Universal Transverse Mercator (UTM) projected coordinate system that covers the entire earth.  The system is broken up into 60 zones, each 6 degrees longitude wide, that span from the south to the north pole."
   ]
  },
  {
   "cell_type": "code",
   "execution_count": 1,
   "metadata": {},
   "outputs": [],
   "source": [
    "from IPython.display import Image\n",
    "from IPython.core.display import HTML "
   ]
  },
  {
   "cell_type": "code",
   "execution_count": 2,
   "metadata": {},
   "outputs": [
    {
     "data": {
      "text/html": [
       "<img src=\"https://gisgeography.com/wp-content/uploads/2016/05/UTM-Zones-Globe-2.png\" width=\"330\"/>"
      ],
      "text/plain": [
       "<IPython.core.display.Image object>"
      ]
     },
     "execution_count": 2,
     "metadata": {},
     "output_type": "execute_result"
    }
   ],
   "source": [
    "# UTM grid zones\n",
    "Image(url= \"https://gisgeography.com/wp-content/uploads/2016/05/UTM-Zones-Globe-2.png\", width=330)"
   ]
  },
  {
   "cell_type": "markdown",
   "metadata": {},
   "source": [
    "Notice in the image how the area covered by each zone is widest at the equator and gets skinnier towards the poles."
   ]
  },
  {
   "cell_type": "markdown",
   "metadata": {},
   "source": [
    "### Easting and Northing"
   ]
  },
  {
   "cell_type": "markdown",
   "metadata": {},
   "source": [
    "Instead of latitude and longitude the UTM grid system uses a northing and an easting.\n",
    "- Eastings - measured from the central meridian, which has a value of 500,000m\n",
    "- Northings - measured from the from the equator, which has a value of 0 for the northern hemisphere and 10,000,000m for the southern hemisphere\n",
    "\n",
    "Benefits of UTM:\n",
    "- uses a square grid -> constant distance relationship anywhere on the map\n",
    "- All values of eastings/northings are positive, so there are no negative numbers nor is there an East-West designation"
   ]
  },
  {
   "cell_type": "code",
   "execution_count": 3,
   "metadata": {},
   "outputs": [
    {
     "data": {
      "text/html": [
       "<img src=\"https://www.maptools.com/images/28ad74e.png\" width=\"360\"/>"
      ],
      "text/plain": [
       "<IPython.core.display.Image object>"
      ]
     },
     "execution_count": 3,
     "metadata": {},
     "output_type": "execute_result"
    }
   ],
   "source": [
    "Image(url= \"https://www.maptools.com/images/28ad74e.png\", width=360)"
   ]
  },
  {
   "cell_type": "markdown",
   "metadata": {},
   "source": [
    "The x direction should only range from about 0 to 1,000,000 where as the y direction could range from 0 to about 10,000,000 at a maximum."
   ]
  },
  {
   "cell_type": "markdown",
   "metadata": {},
   "source": [
    "### EPSG codes for UTM grids"
   ]
  },
  {
   "cell_type": "markdown",
   "metadata": {},
   "source": [
    "Each grid has its own EPSG code, meaning there are 120 total EPSG codes total for UTM grids.  Luckily there is an order to how these codes are assigned.\n",
    "\n",
    "\n",
    "* northern hemisphere - 326{zone number}\n",
    "* southern hemisphere - 327(zone number}\n"
   ]
  },
  {
   "cell_type": "markdown",
   "metadata": {},
   "source": [
    "To quickly reference UTM grid zone numbers I use the image from [this website](http://www.dmap.co.uk/utmworld.htm) as a reference:"
   ]
  },
  {
   "cell_type": "code",
   "execution_count": 4,
   "metadata": {},
   "outputs": [
    {
     "data": {
      "text/html": [
       "<img src=\"http://www.dmap.co.uk/utmworld.gif\"/>"
      ],
      "text/plain": [
       "<IPython.core.display.Image object>"
      ]
     },
     "execution_count": 4,
     "metadata": {},
     "output_type": "execute_result"
    }
   ],
   "source": [
    "# UTM grid zones\n",
    "Image(url= \"http://www.dmap.co.uk/utmworld.gif\")"
   ]
  },
  {
   "cell_type": "markdown",
   "metadata": {},
   "source": [
    "**Example**\n",
    "\n",
    "So the EPSG code for the UTM zone covering most of Ireland is `32629`.  \n",
    "\n",
    "If you want another place to check this is correct you can go to epsg.io and look at the map.  https://epsg.io/32629 does indeed go through Ireland, so we can be satisfied with this conclusion."
   ]
  },
  {
   "cell_type": "markdown",
   "metadata": {},
   "source": [
    "## Back to our dataset"
   ]
  },
  {
   "cell_type": "markdown",
   "metadata": {},
   "source": [
    "So to figure out where a particular point is on the earth we need two things:\n",
    "1. the EPSG code to tell us which grid we are looking at\n",
    "2. our coordinates"
   ]
  },
  {
   "cell_type": "markdown",
   "metadata": {},
   "source": [
    "### Example with AVIRIS"
   ]
  },
  {
   "cell_type": "markdown",
   "metadata": {},
   "source": [
    "Since our AVIRIS data uses UTM grids our coordinates will be an easting and a northing."
   ]
  },
  {
   "cell_type": "code",
   "execution_count": 5,
   "metadata": {},
   "outputs": [],
   "source": [
    "import rasterio"
   ]
  },
  {
   "cell_type": "code",
   "execution_count": 6,
   "metadata": {},
   "outputs": [],
   "source": [
    "filepath = '../input_data/f150131t01p00r10_refl/f150131t01p00r10_h2o_v1'"
   ]
  },
  {
   "cell_type": "code",
   "execution_count": 7,
   "metadata": {},
   "outputs": [
    {
     "name": "stdout",
     "output_type": "stream",
     "text": [
      "crs is  EPSG:32610\n",
      "bbox is  BoundingBox(left=278669.3124746986, bottom=3817906.830412161, right=339811.7357139058, top=3967305.2)\n"
     ]
    }
   ],
   "source": [
    "with rasterio.open(filepath, 'r') as src:\n",
    "    bbox = src.bounds\n",
    "    src_crs = src.crs\n",
    "    \n",
    "print('crs is ', src_crs)\n",
    "print('bbox is ', bbox)"
   ]
  },
  {
   "cell_type": "markdown",
   "metadata": {},
   "source": [
    "Looking at the output of the above cell we see that the EPSG code is `32613`.  The 6 in this code tells us that we are looking at the northern hemisphere, and the `13` tells us that we are looking at UTM zone 13."
   ]
  },
  {
   "cell_type": "markdown",
   "metadata": {},
   "source": [
    "Depending on why you want these coordinates the numbers still might not be very useful unless we can get them to latitude and longitude.  To seem some examples of converting points from UTM to EPSG:4326 (lat/lon) look at the \"Reprojecting to EPSG4326\" notebook."
   ]
  },
  {
   "cell_type": "markdown",
   "metadata": {},
   "source": [
    "## Affine Transformations"
   ]
  },
  {
   "cell_type": "markdown",
   "metadata": {},
   "source": [
    "Affine transformations are the way that we move from row, column notation (pixel space) to the notation of a coordinate reference system (usually either latitude & longitude or easting & northing)\n",
    "\n",
    "My favorite affine transformation article is [this one](https://www.perrygeo.com/python-affine-transforms.html) written by Matthew Perry."
   ]
  },
  {
   "cell_type": "markdown",
   "metadata": {},
   "source": [
    "Here is what an affine tranformation looks like:"
   ]
  },
  {
   "cell_type": "code",
   "execution_count": 8,
   "metadata": {},
   "outputs": [
    {
     "name": "stdout",
     "output_type": "stream",
     "text": [
      "| 16.64,-2.93, 303895.60|\n",
      "|-2.93,-16.64, 3967305.20|\n",
      "| 0.00, 0.00, 1.00|\n"
     ]
    }
   ],
   "source": [
    "with rasterio.open(filepath, 'r') as src:\n",
    "    print(src.transform)"
   ]
  },
  {
   "cell_type": "markdown",
   "metadata": {},
   "source": [
    "Where each number means something different:\n",
    "\n",
    "| | |  |\n",
    "|---|---|---|\n",
    "|  a |  b | c  |\n",
    "|  d | e  | f  |\n",
    "| 0 | 0 | 1 |\n",
    "\n",
    "\n",
    "* a = width of a pixel in units of the crs\n",
    "* b = row rotation (typically zero)\n",
    "* c = x-coordinate of the upper-left corner of the upper-left pixel\n",
    "* d = column rotation (typically zero)\n",
    "* e = height of a pixel in units of the crs (typically negative)\n",
    "* f = y-coordinate of the of the upper-left corner of the upper-left pixel\n",
    "\n",
    "The three numbers in the bottom row are always 0, 0, 1 (since we are working on a 2 dimensional plane)."
   ]
  },
  {
   "cell_type": "markdown",
   "metadata": {},
   "source": [
    "### Using the affine to get the coordinates of a particular grid cell"
   ]
  },
  {
   "cell_type": "code",
   "execution_count": 9,
   "metadata": {},
   "outputs": [
    {
     "name": "stdout",
     "output_type": "stream",
     "text": [
      "coordinates of my pixel:  330523.8369672606 3962506.9591155285\n"
     ]
    }
   ],
   "source": [
    "# Define which pixel we want to convert\n",
    "row, col = 6, 1601\n",
    "\n",
    "# Extract the affine transform\n",
    "with rasterio.open(filepath, 'r') as src:\n",
    "    affine = src.transform\n",
    "\n",
    "# Use the transform to convert our input pixel row/column to coordinates\n",
    "x, y = affine * (col, row)\n",
    "print('coordinates of my pixel: ', x, y)"
   ]
  },
  {
   "cell_type": "markdown",
   "metadata": {},
   "source": [
    "### Using the inverse affine to the the pixel of a coordinate"
   ]
  },
  {
   "cell_type": "markdown",
   "metadata": {},
   "source": [
    "The affine transformation takes you from the row/column pixel space to your crs. To go in the other direction you use the inverse transform, calculated with the ~ operator."
   ]
  },
  {
   "cell_type": "code",
   "execution_count": 10,
   "metadata": {},
   "outputs": [
    {
     "name": "stdout",
     "output_type": "stream",
     "text": [
      "row/column of my coordinates:  234307.25326448443 23047.6104030659\n"
     ]
    }
   ],
   "source": [
    "# Define the coordinates we want to convert\n",
    "xcoord, ycoord = -128, 34\n",
    "\n",
    "# Extract the affine transform\n",
    "with rasterio.open(filepath, 'r') as src:\n",
    "    affine = src.transform\n",
    "\n",
    "# Use the transform to convert our input coordinates to pixel row/column\n",
    "col, row = ~affine * (xcoord, ycoord)\n",
    "print('row/column of my coordinates: ', row, col)"
   ]
  },
  {
   "cell_type": "markdown",
   "metadata": {},
   "source": [
    "If you get a negative number here or your pixel row/column are bigger than the height or width of your raster it means you have asked for the pixel location of a point which is not located in your raster."
   ]
  },
  {
   "cell_type": "code",
   "execution_count": 11,
   "metadata": {},
   "outputs": [
    {
     "name": "stdout",
     "output_type": "stream",
     "text": [
      "shape of my raster  8596 2158\n"
     ]
    }
   ],
   "source": [
    "with rasterio.open(filepath, 'r') as src:\n",
    "    print('shape of my raster ', src.height, src.width)"
   ]
  },
  {
   "cell_type": "code",
   "execution_count": null,
   "metadata": {},
   "outputs": [],
   "source": []
  }
 ],
 "metadata": {
  "kernelspec": {
   "display_name": "Python 3",
   "language": "python",
   "name": "python3"
  },
  "language_info": {
   "codemirror_mode": {
    "name": "ipython",
    "version": 3
   },
   "file_extension": ".py",
   "mimetype": "text/x-python",
   "name": "python",
   "nbconvert_exporter": "python",
   "pygments_lexer": "ipython3",
   "version": "3.8.1"
  }
 },
 "nbformat": 4,
 "nbformat_minor": 4
}
