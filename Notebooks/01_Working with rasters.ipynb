{
 "cells": [
  {
   "cell_type": "markdown",
   "metadata": {},
   "source": [
    "# Working with rasters"
   ]
  },
  {
   "cell_type": "markdown",
   "metadata": {},
   "source": [
    "This is the notebook to start with in this repository.  After this notebook move on to any of the notebooks in this folder."
   ]
  },
  {
   "cell_type": "markdown",
   "metadata": {},
   "source": [
    "### Table of Contents\n",
    "* 🧠Anatomy of a raster\n",
    "* 📖Opening a file\n",
    "* 🔍Inspecting the metadata\n",
    "* 🚜Working with the data\n",
    "* 💾Saving a file"
   ]
  },
  {
   "cell_type": "markdown",
   "metadata": {},
   "source": [
    "### Installing and Importing Packages"
   ]
  },
  {
   "cell_type": "code",
   "execution_count": 1,
   "metadata": {
    "scrolled": true
   },
   "outputs": [
    {
     "name": "stdout",
     "output_type": "stream",
     "text": [
      "\u001b[33mWARNING: You are using pip version 19.3.1; however, version 20.1.1 is available.\r\n",
      "You should consider upgrading via the 'pip install --upgrade pip' command.\u001b[0m\r\n"
     ]
    }
   ],
   "source": [
    "!pip install rasterio numpy scipy -q"
   ]
  },
  {
   "cell_type": "code",
   "execution_count": 2,
   "metadata": {},
   "outputs": [],
   "source": [
    "# These are all the imports that are used in this notebook\n",
    "# Each import is also present a second time, right before the library is used for the first time\n",
    "import rasterio\n",
    "import numpy as np\n",
    "from scipy import stats\n",
    "from rasterio.plot import show"
   ]
  },
  {
   "cell_type": "markdown",
   "metadata": {},
   "source": [
    "## 🧠 The Anatomy of a raster"
   ]
  },
  {
   "cell_type": "markdown",
   "metadata": {},
   "source": [
    "Working with raster data involves understanding how rasters are organized."
   ]
  },
  {
   "cell_type": "markdown",
   "metadata": {},
   "source": [
    "<img src=\"../images/Raster Anatomy.jpg\" width=\"550\">"
   ]
  },
  {
   "cell_type": "markdown",
   "metadata": {},
   "source": [
    "## 📖 Opening a file"
   ]
  },
  {
   "cell_type": "markdown",
   "metadata": {},
   "source": [
    "When you open data files in Python you usually need to use a library.  When dealing with raster data there are several common libraries, most of which cater to a specific data type:\n",
    "\n",
    "  \n",
    "|  File Format |  File Extension | Python Library  |\n",
    "|---|---|---|\n",
    "|  netCDF |  `.nc` | netCDF4  |\n",
    "|  HDF5 | `.hdf5`  | h5py  |\n",
    "| HDF4 | `.hdf4` | pyhdf |\n",
    "| geoTIFF | `.tiff` | rasterio |\n",
    "| zarr | `.zarr` | zarr |\n",
    "\n",
    "\n",
    "While each of these libraries works best with their associated file type, I really like to use `rasterio` because it does a particularly good job of accomodating [many data types](https://gdal.org/drivers/raster/index.html).  Rasterio has the ability to open all of the above filetypes but, with the exception of tiff files, it isn't as optimized for each particular file type as the speciality libraries."
   ]
  },
  {
   "cell_type": "markdown",
   "metadata": {},
   "source": [
    "### Opening a file with `rasterio`:"
   ]
  },
  {
   "cell_type": "markdown",
   "metadata": {},
   "source": [
    "We open our rasters with the `rasterio.open()` method.  The general syntax is \n",
    "> ```python\n",
    "> with rasterio.open(`FILEPATH_TO_RASTER`, `DATAMODE`) as src:\n",
    "    print(src)\n",
    "> ```\n",
    "\n",
    "where `FILEPATH_TO_RASTER` is the place on your computer where `DATAMODE` is usually either 'r' for read (opening existing data) or 'w' for write (creating new data).  There are other data modes but these are the ones we will use for now."
   ]
  },
  {
   "cell_type": "markdown",
   "metadata": {},
   "source": [
    "An example using test AVIRIS data:"
   ]
  },
  {
   "cell_type": "code",
   "execution_count": 3,
   "metadata": {},
   "outputs": [],
   "source": [
    "# Define the filepath to our raster\n",
    "filepath_h2o = '../input_data/f150131t01p00r10_refl/f150131t01p00r10_h2o_v1'\n",
    "filepath_img = '../input_data/f170508t01p00r11rdn_e/f170508t01p00r11rdn_e_sc01_ort_img'"
   ]
  },
  {
   "cell_type": "code",
   "execution_count": 4,
   "metadata": {},
   "outputs": [],
   "source": [
    "import rasterio"
   ]
  },
  {
   "cell_type": "code",
   "execution_count": 5,
   "metadata": {
    "scrolled": true
   },
   "outputs": [
    {
     "name": "stdout",
     "output_type": "stream",
     "text": [
      "<open DatasetReader name='../input_data/f150131t01p00r10_refl/f150131t01p00r10_h2o_v1' mode='r'>\n"
     ]
    }
   ],
   "source": [
    "# Open the file\n",
    "with rasterio.open(filepath_h2o, 'r') as src:\n",
    "    print(src)"
   ]
  },
  {
   "cell_type": "markdown",
   "metadata": {},
   "source": [
    "The object that gets returned here `<open DatasetReader name='f150131t01p00r10_refl/f150131t01p00r10_h2o_v1' mode='r'>` is the \"Dataset Reader\" object.  This object connects you to the file in Python, but it isn't actually the data.  To get to the data you need to use `src.read()`."
   ]
  },
  {
   "cell_type": "markdown",
   "metadata": {},
   "source": [
    "### Reading a raster band with `rasterio`:"
   ]
  },
  {
   "cell_type": "markdown",
   "metadata": {},
   "source": [
    "General syntax:\n",
    "\n",
    "> ```python\n",
    "> with rasterio.open(FILEPATH_TO_RASTER, DATAMODE) as src:\n",
    "    print(src.read(BAND_INDEX))\n",
    "> ```\n",
    "\n",
    "where `FILEPATH_TO_RASTER` is the place on your computer where the data is `DATAMODE` is usually either 'r' for read (opening existing data) or 'w' for write (creating new data).  There are other data modes but these are the ones we will use for now. `BAND_INDEX` indicates which band you want to read.  Leaving `BAND_INDEX` blank reads the entire raster (all bands)."
   ]
  },
  {
   "cell_type": "markdown",
   "metadata": {},
   "source": [
    "An example:"
   ]
  },
  {
   "cell_type": "code",
   "execution_count": 6,
   "metadata": {},
   "outputs": [
    {
     "name": "stdout",
     "output_type": "stream",
     "text": [
      "[[15536 15536 15536 ... 15536 15536 15536]\n",
      " [15536 15536 15536 ... 15536 15536 15536]\n",
      " [15536 15536 15536 ... 15536 15536 15536]\n",
      " ...\n",
      " [15536 15536 15536 ... 15536 15536 15536]\n",
      " [15536 15536 15536 ... 15536 15536 15536]\n",
      " [15536 15536 15536 ... 15536 15536 15536]]\n"
     ]
    }
   ],
   "source": [
    "with rasterio.open(filepath_h2o, 'r') as src:\n",
    "    print(src.read(1))"
   ]
  },
  {
   "cell_type": "markdown",
   "metadata": {},
   "source": [
    "What gets printed here are our actual data values! 🎉"
   ]
  },
  {
   "cell_type": "markdown",
   "metadata": {},
   "source": [
    "### Getting a quick visual of the data"
   ]
  },
  {
   "cell_type": "markdown",
   "metadata": {},
   "source": [
    "Another way to quickly get eyes on our data is to use the `show` command."
   ]
  },
  {
   "cell_type": "code",
   "execution_count": 7,
   "metadata": {},
   "outputs": [],
   "source": [
    "import rasterio.plot as rplot"
   ]
  },
  {
   "cell_type": "code",
   "execution_count": 8,
   "metadata": {},
   "outputs": [
    {
     "data": {
      "image/png": "[encoded data removed]",
      "text/plain": [
       "<Figure size 432x288 with 1 Axes>"
      ]
     },
     "metadata": {
      "needs_background": "light"
     },
     "output_type": "display_data"
    }
   ],
   "source": [
    "with rasterio.open(filepath_img, 'r') as src:\n",
    "    rplot.show(src)"
   ]
  },
  {
   "cell_type": "markdown",
   "metadata": {},
   "source": [
    "The plot and the array might not be very useful right now, but at least we have validated that we can open our raster and that it contains data."
   ]
  },
  {
   "cell_type": "markdown",
   "metadata": {},
   "source": [
    "### Extra background - Context managers"
   ]
  },
  {
   "cell_type": "markdown",
   "metadata": {},
   "source": [
    "It might be new to you that I used the syntax:\n",
    "```python\n",
    "with ... as src:\n",
    "    src.read()\n",
    "```"
   ]
  },
  {
   "cell_type": "markdown",
   "metadata": {
    "scrolled": true
   },
   "source": [
    "This syntax is called the **Context manager**.  When we read files we are opening them up, like a book, and they stay open until we tell the program to close them.  The benefit of the context manager is that it opens up a file when you use the `with` statement, runs all your lines of indented code, and the closes the file after.  This is important if you are opening up large files.  Your computer only has so much memory, so if you try to open too many 8GB files at once without closing them you can crash your program."
   ]
  },
  {
   "cell_type": "markdown",
   "metadata": {},
   "source": [
    "If you don't want to use the contect manager another way to this same task is to run:"
   ]
  },
  {
   "cell_type": "code",
   "execution_count": 9,
   "metadata": {},
   "outputs": [
    {
     "name": "stdout",
     "output_type": "stream",
     "text": [
      "<open DatasetReader name='../input_data/f170508t01p00r11rdn_e/f170508t01p00r11rdn_e_sc01_ort_img' mode='r'>\n"
     ]
    }
   ],
   "source": [
    "src = rasterio.open(filepath_img, 'r')\n",
    "src.read(1)\n",
    "print(src)\n",
    "src.close()"
   ]
  },
  {
   "cell_type": "markdown",
   "metadata": {},
   "source": [
    "If you do this, though, make sure to only be working with a few files at a time or to close your files."
   ]
  },
  {
   "cell_type": "markdown",
   "metadata": {},
   "source": [
    "## 🔍 Inspecting the Metadata"
   ]
  },
  {
   "cell_type": "markdown",
   "metadata": {},
   "source": [
    "When you first open a dataset it is often helpful to get your bearings by inspecting the metadata.  In rasterio we do this by inspecting the DatasetReader object (`src`) that was returned when you opened the object."
   ]
  },
  {
   "cell_type": "markdown",
   "metadata": {},
   "source": [
    "There are [lots of attributes](https://rasterio.readthedocs.io/en/latest/api/rasterio._base.html#rasterio._base.DatasetBase) that you check a dataset reader for.  If you want to get an general overview I like to use `src.meta`.  To extract specific values here are some more attributes that I find useful:\n",
    "* [`src.bounds`](https://rasterio.readthedocs.io/en/latest/api/rasterio._base.html#id1) - Returns the lower left and upper right bounds of the dataset in the units of its coordinate reference system. (lower left x, lower left y, upper right x, upper right y)\n",
    "* [`src.count`](https://rasterio.readthedocs.io/en/latest/api/rasterio._base.html#id5) - The number of raster bands in the dataset\n",
    "* [`src.crs`](https://rasterio.readthedocs.io/en/latest/api/rasterio._base.html#id6) - The dataset’s coordinate reference system\n",
    "* [`src.descriptions`](https://rasterio.readthedocs.io/en/latest/api/rasterio._base.html#id7) - Descriptions for each dataset band\n",
    "* [`src.dtypes`](https://rasterio.readthedocs.io/en/latest/api/rasterio._base.html#rasterio._base.DatasetBase.dtypes) - The data types of each band in index order\n",
    "* `src.height` - The number of pixels in each column\n",
    "* [`src.indexes`](https://rasterio.readthedocs.io/en/latest/api/rasterio._base.html#id11) - The 1-based indexes of each band in the dataset\n",
    "* [`src.meta`](https://rasterio.readthedocs.io/en/latest/api/rasterio._base.html#id14) - The basic metadata of this dataset.\n",
    "* `src.name` - Relative filepath of the dataset\n",
    "* [`src.nodata`](https://rasterio.readthedocs.io/en/latest/api/rasterio._base.html#id17) - The dataset’s single nodata value\n",
    "* [`src.res`](https://rasterio.readthedocs.io/en/latest/api/rasterio._base.html#id22) - Returns the (width, height) of pixels in the units of its coordinate reference system.\n",
    "* [`src.transform`](https://rasterio.readthedocs.io/en/latest/api/rasterio._base.html#id24) - The dataset’s georeferencing transformation matrix\n",
    "* [`src.units`](https://rasterio.readthedocs.io/en/latest/api/rasterio._base.html#id25) - one units string for each dataset band\n",
    "* `src.width` - the number of pixels in each row"
   ]
  },
  {
   "cell_type": "markdown",
   "metadata": {},
   "source": [
    "All of the parts of the raster that were addressed in the first section of this notebook  _Anatomy of a raster_ are accessible using these attributes."
   ]
  },
  {
   "cell_type": "markdown",
   "metadata": {},
   "source": [
    "### Example"
   ]
  },
  {
   "cell_type": "code",
   "execution_count": 10,
   "metadata": {},
   "outputs": [],
   "source": [
    "from pprint import pprint"
   ]
  },
  {
   "cell_type": "code",
   "execution_count": 11,
   "metadata": {},
   "outputs": [
    {
     "name": "stdout",
     "output_type": "stream",
     "text": [
      "src.meta - \n",
      "{'count': 224,\n",
      " 'crs': CRS.from_epsg(32613),\n",
      " 'driver': 'ENVI',\n",
      " 'dtype': 'int16',\n",
      " 'height': 8068,\n",
      " 'nodata': None,\n",
      " 'transform': Affine(15.4, -0.0, 512070.11,\n",
      "       -0.0, -15.4, 4505618.4),\n",
      " 'width': 2352}\n",
      "src.name -  ../input_data/f170508t01p00r11rdn_e/f170508t01p00r11rdn_e_sc01_ort_img\n"
     ]
    }
   ],
   "source": [
    "# Try substituting any of the above attributes in for this dataset\n",
    "with rasterio.open(filepath_img, 'r') as src:\n",
    "    print('src.meta - ')\n",
    "    pprint(src.meta)\n",
    "    print('src.name - ', src.name)"
   ]
  },
  {
   "cell_type": "markdown",
   "metadata": {},
   "source": [
    "With the above print statement we learned from the `src.meta` information that the raster has 224 bands (`count`) it has the coordinate reference system EPSG code 32613 (`crs`), it is an ENVI filetype (`driver`), the datatype is int16 (`dtype`), it has 8068 rows or is 8068 pixels tall (`height`), there isn't a nodata value set (`nodata`), the affine tranform is (15.4, -0.0, 512070.11, -0.0, -15.4, 4505618.4) (`tranform`), and that the raster has 2352 columns or is 2352 pixels wide.  We also see the relative filepath of the raster from the `src.name` attribute."
   ]
  },
  {
   "cell_type": "markdown",
   "metadata": {},
   "source": [
    "### Bounding Boxes"
   ]
  },
  {
   "cell_type": "markdown",
   "metadata": {},
   "source": [
    "A bounding box is a pretty important concept in a raster dataset.  It represents the minimum and maxiumum coordinates of the dataset.  These are often latitude and longitude lines, but the bounding box is given the units of whatever dataset the raster is using.  Since AVIRIS data uses a UTM grid (projected CRS) meters or km is the units of the bounding box."
   ]
  },
  {
   "cell_type": "markdown",
   "metadata": {},
   "source": [
    "<img src=\"../images/Bounding box.png\" width=\"550\">"
   ]
  },
  {
   "cell_type": "markdown",
   "metadata": {},
   "source": [
    "In this example the outline of Italy is shown in red and the bounding box for Italy, which follows the minimum and maximum latitude and longitude lines, is shown in black."
   ]
  },
  {
   "cell_type": "markdown",
   "metadata": {},
   "source": [
    "We access the bounds of the dataset using:"
   ]
  },
  {
   "cell_type": "code",
   "execution_count": 12,
   "metadata": {},
   "outputs": [
    {
     "name": "stdout",
     "output_type": "stream",
     "text": [
      "BoundingBox(left=512070.11, bottom=4381371.2, right=548290.91, top=4505618.4)\n"
     ]
    }
   ],
   "source": [
    "with rasterio.open(filepath_img, 'r') as src:\n",
    "    print(src.bounds)"
   ]
  },
  {
   "cell_type": "markdown",
   "metadata": {},
   "source": [
    "Notice that you can also assign the bounds shape to a python variable and pull the left, right, top or bottom elements out by name."
   ]
  },
  {
   "cell_type": "code",
   "execution_count": 13,
   "metadata": {},
   "outputs": [
    {
     "name": "stdout",
     "output_type": "stream",
     "text": [
      "512070.11\n"
     ]
    }
   ],
   "source": [
    "with rasterio.open(filepath_img, 'r') as src:\n",
    "    bbox = src.bounds\n",
    "print(bbox.left)"
   ]
  },
  {
   "cell_type": "markdown",
   "metadata": {},
   "source": [
    "If you aren't familiar with the UTM coordinate system those numbers probably don't mean a lot.  Coordinate Reference Systems are discussed in a notebook in the `Additional Notebooks` section and we will reference the bbox again there."
   ]
  },
  {
   "cell_type": "markdown",
   "metadata": {},
   "source": [
    "## 🚜 Working with the Data"
   ]
  },
  {
   "cell_type": "markdown",
   "metadata": {},
   "source": [
    "While the raster file is is accessed through a unique filetype-specific library, the actual data is almost always just a common matrix datatype.  Numpy is the most common type of object, but xarray is also used by some data libraries."
   ]
  },
  {
   "cell_type": "markdown",
   "metadata": {},
   "source": [
    "A reminder about matrix indexing:\n",
    "* 2D matrices use row, column order\n",
    "* 3D matrices use height, row, column order"
   ]
  },
  {
   "cell_type": "markdown",
   "metadata": {},
   "source": [
    "### Exploratory statistics"
   ]
  },
  {
   "cell_type": "markdown",
   "metadata": {},
   "source": [
    "When I open a dataset I often like to get a sense of it by just looking at looking at statistics for one of the bands."
   ]
  },
  {
   "cell_type": "code",
   "execution_count": 14,
   "metadata": {
    "scrolled": true
   },
   "outputs": [
    {
     "name": "stdout",
     "output_type": "stream",
     "text": [
      "max value:  15536\n",
      "mean value:  7970.368858114924\n",
      "min value:  133\n"
     ]
    }
   ],
   "source": [
    "# Read out a band\n",
    "with rasterio.open(filepath_h2o, 'r') as src:\n",
    "    band1 = src.read(1)\n",
    "\n",
    "# Print the overview statistics\n",
    "print('max value: ', band1.max())\n",
    "print('mean value: ', band1.mean())\n",
    "print('min value: ', band1.min())  # -50 isn't showing up here?"
   ]
  },
  {
   "cell_type": "markdown",
   "metadata": {},
   "source": [
    "One thing to be careful of is how the nodata value can be affecting the stats.  It is good to check the nodata value assigned to the file, but they can sometimes be mis-labelled so it is also good to check for any disproportionately common min or max values that are outside the logical values for a variable."
   ]
  },
  {
   "cell_type": "code",
   "execution_count": 15,
   "metadata": {},
   "outputs": [],
   "source": [
    "from scipy import stats"
   ]
  },
  {
   "cell_type": "code",
   "execution_count": 16,
   "metadata": {},
   "outputs": [
    {
     "name": "stdout",
     "output_type": "stream",
     "text": [
      "ModeResult(mode=array([15536], dtype=int16), count=array([9141643]))\n",
      "18550168\n"
     ]
    }
   ],
   "source": [
    "print(stats.mode(band1, axis=None))\n",
    "print(band1.size)"
   ]
  },
  {
   "cell_type": "markdown",
   "metadata": {},
   "source": [
    "Although there is no `nodata` value set in the metadata it appears as though -50 is a nodata value in this file.  This could be confirmed by checking the AVIRIS documentation"
   ]
  },
  {
   "cell_type": "markdown",
   "metadata": {},
   "source": [
    "### Matrix Operations"
   ]
  },
  {
   "cell_type": "markdown",
   "metadata": {},
   "source": [
    "Once you have your data in matrix form you can operate on it like you would with any matrix.\n",
    "\n",
    "One way of interacting is to loop through the entire matrix row, by column, by band.  While this is one way to do it it can be quite slow.  When you can it is best to use built in matrix operations to work with the numpy matrices.  These operations have been built with optimization in mind."
   ]
  },
  {
   "cell_type": "code",
   "execution_count": 17,
   "metadata": {},
   "outputs": [],
   "source": [
    "with rasterio.open(filepath_img, 'r') as src:\n",
    "    red = src.read(50)\n",
    "    blue = src.read(20)\n",
    "    green = src.read(5)"
   ]
  },
  {
   "cell_type": "markdown",
   "metadata": {},
   "source": [
    "Adding and subtracting two matrices"
   ]
  },
  {
   "cell_type": "code",
   "execution_count": 18,
   "metadata": {},
   "outputs": [
    {
     "data": {
      "text/plain": [
       "array([[-100, -100, -100, ..., -100, -100, -100],\n",
       "       [-100, -100, -100, ..., -100, -100, -100],\n",
       "       [-100, -100, -100, ..., -100, -100, -100],\n",
       "       ...,\n",
       "       [-100, -100, -100, ..., -100, -100, -100],\n",
       "       [-100, -100, -100, ..., -100, -100, -100],\n",
       "       [-100, -100, -100, ..., -100, -100, -100]], dtype=int16)"
      ]
     },
     "execution_count": 18,
     "metadata": {},
     "output_type": "execute_result"
    }
   ],
   "source": [
    "red + green"
   ]
  },
  {
   "cell_type": "code",
   "execution_count": 19,
   "metadata": {},
   "outputs": [
    {
     "data": {
      "text/plain": [
       "array([[0, 0, 0, ..., 0, 0, 0],\n",
       "       [0, 0, 0, ..., 0, 0, 0],\n",
       "       [0, 0, 0, ..., 0, 0, 0],\n",
       "       ...,\n",
       "       [0, 0, 0, ..., 0, 0, 0],\n",
       "       [0, 0, 0, ..., 0, 0, 0],\n",
       "       [0, 0, 0, ..., 0, 0, 0]], dtype=int16)"
      ]
     },
     "execution_count": 19,
     "metadata": {},
     "output_type": "execute_result"
    }
   ],
   "source": [
    "blue - red"
   ]
  },
  {
   "cell_type": "markdown",
   "metadata": {},
   "source": [
    "Multiplying or dividing a matrix by a constant"
   ]
  },
  {
   "cell_type": "code",
   "execution_count": 20,
   "metadata": {},
   "outputs": [
    {
     "data": {
      "text/plain": [
       "array([[-250, -250, -250, ..., -250, -250, -250],\n",
       "       [-250, -250, -250, ..., -250, -250, -250],\n",
       "       [-250, -250, -250, ..., -250, -250, -250],\n",
       "       ...,\n",
       "       [-250, -250, -250, ..., -250, -250, -250],\n",
       "       [-250, -250, -250, ..., -250, -250, -250],\n",
       "       [-250, -250, -250, ..., -250, -250, -250]], dtype=int16)"
      ]
     },
     "execution_count": 20,
     "metadata": {},
     "output_type": "execute_result"
    }
   ],
   "source": [
    "red*5"
   ]
  },
  {
   "cell_type": "code",
   "execution_count": 21,
   "metadata": {},
   "outputs": [
    {
     "data": {
      "text/plain": [
       "array([[-7.14285714, -7.14285714, -7.14285714, ..., -7.14285714,\n",
       "        -7.14285714, -7.14285714],\n",
       "       [-7.14285714, -7.14285714, -7.14285714, ..., -7.14285714,\n",
       "        -7.14285714, -7.14285714],\n",
       "       [-7.14285714, -7.14285714, -7.14285714, ..., -7.14285714,\n",
       "        -7.14285714, -7.14285714],\n",
       "       ...,\n",
       "       [-7.14285714, -7.14285714, -7.14285714, ..., -7.14285714,\n",
       "        -7.14285714, -7.14285714],\n",
       "       [-7.14285714, -7.14285714, -7.14285714, ..., -7.14285714,\n",
       "        -7.14285714, -7.14285714],\n",
       "       [-7.14285714, -7.14285714, -7.14285714, ..., -7.14285714,\n",
       "        -7.14285714, -7.14285714]])"
      ]
     },
     "execution_count": 21,
     "metadata": {},
     "output_type": "execute_result"
    }
   ],
   "source": [
    "green/7"
   ]
  },
  {
   "cell_type": "markdown",
   "metadata": {},
   "source": [
    "Some other built in operations"
   ]
  },
  {
   "cell_type": "code",
   "execution_count": 22,
   "metadata": {},
   "outputs": [
    {
     "data": {
      "text/plain": [
       "array([[7.071068, 7.071068, 7.071068, ..., 7.071068, 7.071068, 7.071068],\n",
       "       [7.071068, 7.071068, 7.071068, ..., 7.071068, 7.071068, 7.071068],\n",
       "       [7.071068, 7.071068, 7.071068, ..., 7.071068, 7.071068, 7.071068],\n",
       "       ...,\n",
       "       [7.071068, 7.071068, 7.071068, ..., 7.071068, 7.071068, 7.071068],\n",
       "       [7.071068, 7.071068, 7.071068, ..., 7.071068, 7.071068, 7.071068],\n",
       "       [7.071068, 7.071068, 7.071068, ..., 7.071068, 7.071068, 7.071068]],\n",
       "      dtype=float32)"
      ]
     },
     "execution_count": 22,
     "metadata": {},
     "output_type": "execute_result"
    }
   ],
   "source": [
    "# We have to take the absolute value of red because the nodata values are negative and that throws an error\n",
    "np.sqrt(abs(red))"
   ]
  },
  {
   "cell_type": "code",
   "execution_count": 23,
   "metadata": {},
   "outputs": [
    {
     "data": {
      "text/plain": [
       "array([[-24352, -24352, -24352, ..., -24352, -24352, -24352],\n",
       "       [-24352, -24352, -24352, ..., -24352, -24352, -24352],\n",
       "       [-24352, -24352, -24352, ..., -24352, -24352, -24352],\n",
       "       ...,\n",
       "       [-24352, -24352, -24352, ..., -24352, -24352, -24352],\n",
       "       [-24352, -24352, -24352, ..., -24352, -24352, -24352],\n",
       "       [-24352, -24352, -24352, ..., -24352, -24352, -24352]], dtype=int16)"
      ]
     },
     "execution_count": 23,
     "metadata": {},
     "output_type": "execute_result"
    }
   ],
   "source": [
    "np.power(red, 5)"
   ]
  },
  {
   "cell_type": "code",
   "execution_count": 24,
   "metadata": {},
   "outputs": [
    {
     "data": {
      "text/plain": [
       "array([[0, 0, 0, ..., 0, 0, 0],\n",
       "       [0, 0, 0, ..., 0, 0, 0],\n",
       "       [0, 0, 0, ..., 0, 0, 0],\n",
       "       ...,\n",
       "       [0, 0, 0, ..., 0, 0, 0],\n",
       "       [0, 0, 0, ..., 0, 0, 0],\n",
       "       [0, 0, 0, ..., 0, 0, 0]], dtype=int16)"
      ]
     },
     "execution_count": 24,
     "metadata": {},
     "output_type": "execute_result"
    }
   ],
   "source": [
    "np.power(red, abs(blue))"
   ]
  },
  {
   "cell_type": "markdown",
   "metadata": {},
   "source": [
    "And lots more... `np.log`, `np.exp`.  [This table](https://www.oreilly.com/library/view/python-for-data/9781449323592/ch04.html#table_unary_ufuncs) has a nice list of functions you can use on numpy arrays"
   ]
  },
  {
   "cell_type": "markdown",
   "metadata": {},
   "source": [
    "### Datacubes / 3D matrices"
   ]
  },
  {
   "cell_type": "markdown",
   "metadata": {},
   "source": [
    "If you want to work with multiple bands in your dataset it can be helpful to bundle them together into a 3d matrix\n",
    "\n",
    "Bands in rasterio are read out 1 at a time, but to perform an operation on a large bundle of bands you will want to construct those bands into a \"datacube\" or a 3d matrix of data."
   ]
  },
  {
   "cell_type": "code",
   "execution_count": 25,
   "metadata": {},
   "outputs": [],
   "source": [
    "import numpy as np"
   ]
  },
  {
   "cell_type": "code",
   "execution_count": 26,
   "metadata": {},
   "outputs": [],
   "source": [
    "with rasterio.open(filepath_img, 'r') as src:\n",
    "    red = src.read(50)\n",
    "    blue = src.read(20)\n",
    "    green = src.read(5)"
   ]
  },
  {
   "cell_type": "markdown",
   "metadata": {},
   "source": [
    "Looking at the shape of the bands we notice that they are two dimensionsal."
   ]
  },
  {
   "cell_type": "code",
   "execution_count": 27,
   "metadata": {},
   "outputs": [
    {
     "name": "stdout",
     "output_type": "stream",
     "text": [
      "(8068, 2352)\n"
     ]
    }
   ],
   "source": [
    "print(red.shape)"
   ]
  },
  {
   "cell_type": "markdown",
   "metadata": {},
   "source": [
    "In order to stack the bands into a 3d matrix we need to add a third dimension to each of the bands."
   ]
  },
  {
   "cell_type": "code",
   "execution_count": 28,
   "metadata": {},
   "outputs": [
    {
     "name": "stdout",
     "output_type": "stream",
     "text": [
      "band starting shape  (8068, 2352)\n",
      "band with extra dimension  (1, 8068, 2352)\n"
     ]
    }
   ],
   "source": [
    "# change the first layer from a 2d matrix to a 3d matrix\n",
    "print('band starting shape ', red.shape)\n",
    "red = np.expand_dims(red, axis=0)\n",
    "blue = np.expand_dims(blue, axis=0)\n",
    "green = np.expand_dims(green, axis=0)\n",
    "print('band with extra dimension ', red.shape)"
   ]
  },
  {
   "cell_type": "markdown",
   "metadata": {},
   "source": [
    "To actually stack the bands together we use the `concatentate` command."
   ]
  },
  {
   "cell_type": "code",
   "execution_count": 29,
   "metadata": {
    "scrolled": true
   },
   "outputs": [
    {
     "name": "stdout",
     "output_type": "stream",
     "text": [
      "cube shape  (3, 8068, 2352)\n"
     ]
    }
   ],
   "source": [
    "# Layer these three bands on top of one another with the `concatenate` command\n",
    "rgb_cube = np.concatenate((red, blue, green), axis=0)\n",
    "print('cube shape ',rgb_cube.shape)"
   ]
  },
  {
   "cell_type": "markdown",
   "metadata": {},
   "source": [
    "Now you can use the matrix operations from above on multiple bands at once."
   ]
  },
  {
   "cell_type": "code",
   "execution_count": 30,
   "metadata": {},
   "outputs": [
    {
     "data": {
      "text/plain": [
       "array([[[2500, 2500, 2500, ..., 2500, 2500, 2500],\n",
       "        [2500, 2500, 2500, ..., 2500, 2500, 2500],\n",
       "        [2500, 2500, 2500, ..., 2500, 2500, 2500],\n",
       "        ...,\n",
       "        [2500, 2500, 2500, ..., 2500, 2500, 2500],\n",
       "        [2500, 2500, 2500, ..., 2500, 2500, 2500],\n",
       "        [2500, 2500, 2500, ..., 2500, 2500, 2500]],\n",
       "\n",
       "       [[2500, 2500, 2500, ..., 2500, 2500, 2500],\n",
       "        [2500, 2500, 2500, ..., 2500, 2500, 2500],\n",
       "        [2500, 2500, 2500, ..., 2500, 2500, 2500],\n",
       "        ...,\n",
       "        [2500, 2500, 2500, ..., 2500, 2500, 2500],\n",
       "        [2500, 2500, 2500, ..., 2500, 2500, 2500],\n",
       "        [2500, 2500, 2500, ..., 2500, 2500, 2500]],\n",
       "\n",
       "       [[2500, 2500, 2500, ..., 2500, 2500, 2500],\n",
       "        [2500, 2500, 2500, ..., 2500, 2500, 2500],\n",
       "        [2500, 2500, 2500, ..., 2500, 2500, 2500],\n",
       "        ...,\n",
       "        [2500, 2500, 2500, ..., 2500, 2500, 2500],\n",
       "        [2500, 2500, 2500, ..., 2500, 2500, 2500],\n",
       "        [2500, 2500, 2500, ..., 2500, 2500, 2500]]], dtype=int16)"
      ]
     },
     "execution_count": 30,
     "metadata": {},
     "output_type": "execute_result"
    }
   ],
   "source": [
    "rgb_cube ** 2"
   ]
  },
  {
   "cell_type": "markdown",
   "metadata": {},
   "source": [
    "**Looping through bands**\n",
    "\n",
    "If you have more than a a few layers to stack this can get unwieldy.  To make this process more automated you can define a `list` object with all the bands you want in it and then loop through that."
   ]
  },
  {
   "cell_type": "code",
   "execution_count": 31,
   "metadata": {},
   "outputs": [
    {
     "name": "stdout",
     "output_type": "stream",
     "text": [
      "starting cube shape  (0, 8068, 2352)\n",
      "cube with new layer shape  (1, 8068, 2352)\n",
      "cube with new layer shape  (2, 8068, 2352)\n",
      "cube with new layer shape  (3, 8068, 2352)\n",
      "cube with new layer shape  (4, 8068, 2352)\n",
      "cube with new layer shape  (5, 8068, 2352)\n",
      "cube with new layer shape  (6, 8068, 2352)\n",
      "cube with new layer shape  (7, 8068, 2352)\n",
      "cube with new layer shape  (8, 8068, 2352)\n",
      "cube with new layer shape  (9, 8068, 2352)\n",
      "final cube shape  (9, 8068, 2352)\n"
     ]
    }
   ],
   "source": [
    "bands_i_want = [1,4, 5, 6, 10, 11, 20, 30, 42]\n",
    "with rasterio.open(filepath_img, 'r') as src:\n",
    "    # Start with an empty cube that is the same shape as your raster\n",
    "    cube = np.empty([0, src.height, src.width])  # How can a matrix have a dimension of 0?\n",
    "    print('starting cube shape ', cube.shape)\n",
    "    for i in bands_i_want:\n",
    "        # Read the layer from the Dataset Reader object\n",
    "        new_layer = src.read(i)\n",
    "        # Expand the number of dimensions on that layer\n",
    "        new_layer = np.expand_dims(new_layer, axis=0)\n",
    "        # Stack the newest layer on the existing cube\n",
    "        cube = np.concatenate((cube, new_layer), axis=0)\n",
    "        print('cube with new layer shape ', cube.shape)\n",
    "print('final cube shape ', cube.shape)"
   ]
  },
  {
   "cell_type": "markdown",
   "metadata": {},
   "source": [
    "## 💾 Saving a file"
   ]
  },
  {
   "cell_type": "markdown",
   "metadata": {},
   "source": [
    "At a certain point you may want to do it.  Let's start by getting some data to save"
   ]
  },
  {
   "cell_type": "code",
   "execution_count": 32,
   "metadata": {},
   "outputs": [],
   "source": [
    "# Get our data setup\n",
    "with rasterio.open(filepath_img, 'r') as src:\n",
    "    red = src.read(50)\n",
    "    blue = src.read(20)\n",
    "    green = src.read(10)\n",
    "    meta = src.meta.copy()"
   ]
  },
  {
   "cell_type": "markdown",
   "metadata": {},
   "source": [
    "It is best practice to persist or update as much of the metadata from your old raster as you can.  As you may have experienced working with data, complete and accurate data can make someone else's life (and maybe even your own) much easier down the road.  Make sure you look at it, though, to make sure all the information still applies to your new raster."
   ]
  },
  {
   "cell_type": "code",
   "execution_count": 33,
   "metadata": {},
   "outputs": [
    {
     "name": "stdout",
     "output_type": "stream",
     "text": [
      "{'count': 224,\n",
      " 'crs': CRS.from_epsg(32613),\n",
      " 'driver': 'ENVI',\n",
      " 'dtype': 'int16',\n",
      " 'height': 8068,\n",
      " 'nodata': None,\n",
      " 'transform': Affine(15.4, -0.0, 512070.11,\n",
      "       -0.0, -15.4, 4505618.4),\n",
      " 'width': 2352}\n"
     ]
    }
   ],
   "source": [
    "pprint(meta)"
   ]
  },
  {
   "cell_type": "markdown",
   "metadata": {},
   "source": [
    "Count has changed, since we are only saving 3 of the 224 total bands, so we need to upadate the `count` value."
   ]
  },
  {
   "cell_type": "code",
   "execution_count": 34,
   "metadata": {},
   "outputs": [],
   "source": [
    "meta.update(count=3)"
   ]
  },
  {
   "cell_type": "code",
   "execution_count": 35,
   "metadata": {},
   "outputs": [],
   "source": [
    "# Make the output directory if it does not exist yet\n",
    "import os\n",
    "if not os.path.exists('../output_data'):\n",
    "    os.makedirs('../output_data')"
   ]
  },
  {
   "cell_type": "code",
   "execution_count": 36,
   "metadata": {},
   "outputs": [],
   "source": [
    "with rasterio.open(\n",
    "    '../output_data/rgb',\n",
    "    'w',\n",
    "    **meta\n",
    ") as dst:\n",
    "    dst.write(red, 1)\n",
    "    dst.write(blue, 2)\n",
    "    dst.write(green, 3)"
   ]
  },
  {
   "cell_type": "markdown",
   "metadata": {},
   "source": [
    "If we want to confirm that our dataset saved properly we can open it back up and look at what we saved."
   ]
  },
  {
   "cell_type": "code",
   "execution_count": 37,
   "metadata": {},
   "outputs": [
    {
     "data": {
      "image/png": "[encoded data removed]",
      "text/plain": [
       "<Figure size 432x288 with 1 Axes>"
      ]
     },
     "metadata": {
      "needs_background": "light"
     },
     "output_type": "display_data"
    }
   ],
   "source": [
    "with rasterio.open('../output_data/rgb', 'r') as src:\n",
    "    rplot.show(src)"
   ]
  },
  {
   "cell_type": "markdown",
   "metadata": {},
   "source": [
    "There is our raster!  A special one we made ourselves.  😄"
   ]
  }
 ],
 "metadata": {
  "kernelspec": {
   "display_name": "Python 3",
   "language": "python",
   "name": "python3"
  },
  "language_info": {
   "codemirror_mode": {
    "name": "ipython",
    "version": 3
   },
   "file_extension": ".py",
   "mimetype": "text/x-python",
   "name": "python",
   "nbconvert_exporter": "python",
   "pygments_lexer": "ipython3",
   "version": "3.8.1"
  }
 },
 "nbformat": 4,
 "nbformat_minor": 4
}
