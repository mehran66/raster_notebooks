{
 "cells": [
  {
   "cell_type": "markdown",
   "metadata": {},
   "source": [
    "# Creating a spectral plot"
   ]
  },
  {
   "cell_type": "markdown",
   "metadata": {},
   "source": [
    "One exercise we can do to practice is to create a spectral plot.  Doing this involves opening each band of a raster and pulling out a specific pixel's value.  If the raster is small enough we wouldn't have to do this for a single point it would be easy enough to load the whole raster into memory.  If your raster is more than a few gigbytes, however this may not be an option."
   ]
  },
  {
   "cell_type": "markdown",
   "metadata": {},
   "source": [
    "I'll go through three methods of extracting your slice, starting with the simplest (smallest amount of data) and getting more complex (necessary as your data gets bigger).\n",
    "1. Loading the whole raster into memory\n",
    "2. Reading each band and extracting your value\n",
    "3. Using `rasterio` Windows"
   ]
  },
  {
   "cell_type": "code",
   "execution_count": 1,
   "metadata": {},
   "outputs": [],
   "source": [
    "# All notebook imports\n",
    "import rasterio\n",
    "import matplotlib.pyplot as plt \n",
    "import numpy as np\n",
    "from rasterio.windows import Window"
   ]
  },
  {
   "cell_type": "markdown",
   "metadata": {},
   "source": [
    "## #1 Loading the whole raster into memory"
   ]
  },
  {
   "cell_type": "markdown",
   "metadata": {},
   "source": [
    "If you can open your whole raster at once the method for getting the array for your spectral plot in a single line."
   ]
  },
  {
   "cell_type": "markdown",
   "metadata": {},
   "source": [
    "**Read all the data**"
   ]
  },
  {
   "cell_type": "code",
   "execution_count": 2,
   "metadata": {},
   "outputs": [],
   "source": [
    "import rasterio"
   ]
  },
  {
   "cell_type": "code",
   "execution_count": 3,
   "metadata": {},
   "outputs": [],
   "source": [
    "filepath_rad = '../input_data/f100520t01p00r08rdn_b/f100520t01p00r08rdn_b_sc01_ort_img'"
   ]
  },
  {
   "cell_type": "code",
   "execution_count": 4,
   "metadata": {},
   "outputs": [],
   "source": [
    "with rasterio.open(filepath_rad, 'r') as src:\n",
    "    indexes = src.indexes\n",
    "    full_raster = src.read()"
   ]
  },
  {
   "cell_type": "markdown",
   "metadata": {},
   "source": [
    "**Pull out your value**"
   ]
  },
  {
   "cell_type": "code",
   "execution_count": 5,
   "metadata": {},
   "outputs": [],
   "source": [
    "# Specify the row and column of the pixel whose values you want to plot\n",
    "row, col = (1000, 50)"
   ]
  },
  {
   "cell_type": "code",
   "execution_count": 6,
   "metadata": {},
   "outputs": [],
   "source": [
    "my_slice = full_raster[:, row, col]"
   ]
  },
  {
   "cell_type": "code",
   "execution_count": 7,
   "metadata": {},
   "outputs": [
    {
     "data": {
      "text/plain": [
       "array([1301, 1513, 1572, 1969, 2778, 2876, 2726, 2608, 2905, 3015, 2987,\n",
       "       2882, 2800, 2650, 2557, 2447, 2303, 2283, 2261, 2211, 2125, 2035,\n",
       "       1986, 1827, 1803, 1817, 1755, 1681, 1675, 1590, 1549, 1604, 1535,\n",
       "       1602, 1574, 1404, 1287, 1304, 1184,  919, 1058, 1237, 1226,  770,\n",
       "       1117, 1170, 1081, 1030,  910,  717,  784,  906,  950,  940,  931,\n",
       "        916,  855,  620,  504,  454,  389,  153,  119,  191,  397,  481,\n",
       "        641,  692,  673,  677,  664,  651,  640,  614,  591,  558,  508,\n",
       "        456,  330,  186,   35,   28,   52,   49,  129,  248,  292,  286,\n",
       "        311,  312,  336,  368,  400,  403,  383,  324,  382,  330,  332,\n",
       "        348,  333,  272,  206,   84,   82,   45,    6,    3,    4,    5,\n",
       "         20,    3,    9,    7,    7,    9,   29,   35,   35,   58,  156,\n",
       "        272,  357,  417,  459,  486,  501,  479,  430,  431,  445,  413,\n",
       "        417,  437,  432,  398,  397,  388,  381,  377,  357,  340,  321,\n",
       "        298,  270,  243,  231,  198,  142,   88,   49,   13,    2,    1,\n",
       "          2,    1,    2,    1,    2,    3,    2,    3,    1,    2,    1,\n",
       "          2,    2,    2,    3,    7,   56,  122,  166,  105,   39,   68,\n",
       "        196,  270,  228,  166,  180,  241,  278,  285,  294,  280,  294,\n",
       "        300,  278,  258,  251,  244,  230,  226,  233,  247,  239,  234,\n",
       "        225,  210,  198,  195,  183,  163,  173,  145,  145,  126,   99,\n",
       "        100,   89,   63,   53,   63,   46,   24,   41,   34,   17,   20,\n",
       "         17,    5,    1,    2], dtype=int16)"
      ]
     },
     "execution_count": 7,
     "metadata": {},
     "output_type": "execute_result"
    }
   ],
   "source": [
    "my_slice"
   ]
  },
  {
   "cell_type": "markdown",
   "metadata": {},
   "source": [
    "That was it.  We have our slice.  All that is left to do is graph it."
   ]
  },
  {
   "cell_type": "markdown",
   "metadata": {},
   "source": [
    "**Graph the data**"
   ]
  },
  {
   "cell_type": "code",
   "execution_count": 8,
   "metadata": {},
   "outputs": [],
   "source": [
    "import matplotlib.pyplot as plt "
   ]
  },
  {
   "cell_type": "code",
   "execution_count": 9,
   "metadata": {},
   "outputs": [
    {
     "data": {
      "image/png": "[encoded data removed]",
      "text/plain": [
       "<Figure size 432x288 with 1 Axes>"
      ]
     },
     "metadata": {
      "needs_background": "light"
     },
     "output_type": "display_data"
    }
   ],
   "source": [
    "plt.plot(indexes, my_slice)\n",
    "plt.xlabel('band number') \n",
    "# naming the y axis \n",
    "plt.ylabel('reflectance value') \n",
    "  \n",
    "# giving a title to my graph \n",
    "plt.title('Spectral Plot') \n",
    "\n",
    "# function to show the plot \n",
    "plt.show()"
   ]
  },
  {
   "cell_type": "markdown",
   "metadata": {},
   "source": [
    "## #2 Reading each band and extracting your value"
   ]
  },
  {
   "cell_type": "markdown",
   "metadata": {},
   "source": [
    "In this technique we are going to loop through each band of the raster one by one and save out our value.  It is useful for arrays that are too slow when loaded fully into memory but it can be a slow process for arrays that are above a certain size."
   ]
  },
  {
   "cell_type": "markdown",
   "metadata": {},
   "source": [
    "**Set up your input data**"
   ]
  },
  {
   "cell_type": "code",
   "execution_count": 10,
   "metadata": {},
   "outputs": [],
   "source": [
    "filepath_rad = '../input_data/f100520t01p00r08rdn_b/f100520t01p00r08rdn_b_sc01_ort_img'"
   ]
  },
  {
   "cell_type": "code",
   "execution_count": 11,
   "metadata": {},
   "outputs": [],
   "source": [
    "# Specify the row and column of the pixel whose values you want to plot\n",
    "row, col = (1000, 50)"
   ]
  },
  {
   "cell_type": "markdown",
   "metadata": {},
   "source": [
    "**Read each band and pull out your value**"
   ]
  },
  {
   "cell_type": "code",
   "execution_count": 12,
   "metadata": {},
   "outputs": [],
   "source": [
    "import numpy as np"
   ]
  },
  {
   "cell_type": "code",
   "execution_count": 13,
   "metadata": {
    "scrolled": false
   },
   "outputs": [
    {
     "name": "stdout",
     "output_type": "stream",
     "text": [
      "added a new value to the array  1301\n",
      "added a new value to the array  1513\n",
      "added a new value to the array  1572\n",
      "added a new value to the array  1969\n",
      "added a new value to the array  2778\n",
      "added a new value to the array  2876\n",
      "added a new value to the array  2726\n",
      "added a new value to the array  2608\n",
      "added a new value to the array  2905\n",
      "added a new value to the array  3015\n",
      "added a new value to the array  2987\n",
      "added a new value to the array  2882\n",
      "added a new value to the array  2800\n",
      "added a new value to the array  2650\n",
      "added a new value to the array  2557\n",
      "added a new value to the array  2447\n",
      "added a new value to the array  2303\n",
      "added a new value to the array  2283\n",
      "added a new value to the array  2261\n",
      "added a new value to the array  2211\n",
      "added a new value to the array  2125\n",
      "added a new value to the array  2035\n",
      "added a new value to the array  1986\n",
      "added a new value to the array  1827\n",
      "added a new value to the array  1803\n",
      "added a new value to the array  1817\n",
      "added a new value to the array  1755\n",
      "added a new value to the array  1681\n",
      "added a new value to the array  1675\n",
      "added a new value to the array  1590\n",
      "added a new value to the array  1549\n",
      "added a new value to the array  1604\n",
      "added a new value to the array  1535\n",
      "added a new value to the array  1602\n",
      "added a new value to the array  1574\n",
      "added a new value to the array  1404\n",
      "added a new value to the array  1287\n",
      "added a new value to the array  1304\n",
      "added a new value to the array  1184\n",
      "added a new value to the array  919\n",
      "added a new value to the array  1058\n",
      "added a new value to the array  1237\n",
      "added a new value to the array  1226\n",
      "added a new value to the array  770\n",
      "added a new value to the array  1117\n",
      "added a new value to the array  1170\n",
      "added a new value to the array  1081\n",
      "added a new value to the array  1030\n",
      "added a new value to the array  910\n",
      "added a new value to the array  717\n",
      "added a new value to the array  784\n",
      "added a new value to the array  906\n",
      "added a new value to the array  950\n",
      "added a new value to the array  940\n",
      "added a new value to the array  931\n",
      "added a new value to the array  916\n",
      "added a new value to the array  855\n",
      "added a new value to the array  620\n",
      "added a new value to the array  504\n",
      "added a new value to the array  454\n",
      "added a new value to the array  389\n",
      "added a new value to the array  153\n",
      "added a new value to the array  119\n",
      "added a new value to the array  191\n",
      "added a new value to the array  397\n",
      "added a new value to the array  481\n",
      "added a new value to the array  641\n",
      "added a new value to the array  692\n",
      "added a new value to the array  673\n",
      "added a new value to the array  677\n",
      "added a new value to the array  664\n",
      "added a new value to the array  651\n",
      "added a new value to the array  640\n",
      "added a new value to the array  614\n",
      "added a new value to the array  591\n",
      "added a new value to the array  558\n",
      "added a new value to the array  508\n",
      "added a new value to the array  456\n",
      "added a new value to the array  330\n",
      "added a new value to the array  186\n",
      "added a new value to the array  35\n",
      "added a new value to the array  28\n",
      "added a new value to the array  52\n",
      "added a new value to the array  49\n",
      "added a new value to the array  129\n",
      "added a new value to the array  248\n",
      "added a new value to the array  292\n",
      "added a new value to the array  286\n",
      "added a new value to the array  311\n",
      "added a new value to the array  312\n",
      "added a new value to the array  336\n",
      "added a new value to the array  368\n",
      "added a new value to the array  400\n",
      "added a new value to the array  403\n",
      "added a new value to the array  383\n",
      "added a new value to the array  324\n",
      "added a new value to the array  382\n",
      "added a new value to the array  330\n",
      "added a new value to the array  332\n",
      "added a new value to the array  348\n",
      "added a new value to the array  333\n",
      "added a new value to the array  272\n",
      "added a new value to the array  206\n",
      "added a new value to the array  84\n",
      "added a new value to the array  82\n",
      "added a new value to the array  45\n",
      "added a new value to the array  6\n",
      "added a new value to the array  3\n",
      "added a new value to the array  4\n",
      "added a new value to the array  5\n",
      "added a new value to the array  20\n",
      "added a new value to the array  3\n",
      "added a new value to the array  9\n",
      "added a new value to the array  7\n",
      "added a new value to the array  7\n",
      "added a new value to the array  9\n",
      "added a new value to the array  29\n",
      "added a new value to the array  35\n",
      "added a new value to the array  35\n",
      "added a new value to the array  58\n",
      "added a new value to the array  156\n",
      "added a new value to the array  272\n",
      "added a new value to the array  357\n",
      "added a new value to the array  417\n",
      "added a new value to the array  459\n",
      "added a new value to the array  486\n",
      "added a new value to the array  501\n",
      "added a new value to the array  479\n",
      "added a new value to the array  430\n",
      "added a new value to the array  431\n",
      "added a new value to the array  445\n",
      "added a new value to the array  413\n",
      "added a new value to the array  417\n",
      "added a new value to the array  437\n",
      "added a new value to the array  432\n",
      "added a new value to the array  398\n",
      "added a new value to the array  397\n",
      "added a new value to the array  388\n",
      "added a new value to the array  381\n",
      "added a new value to the array  377\n",
      "added a new value to the array  357\n",
      "added a new value to the array  340\n",
      "added a new value to the array  321\n",
      "added a new value to the array  298\n",
      "added a new value to the array  270\n",
      "added a new value to the array  243\n",
      "added a new value to the array  231\n",
      "added a new value to the array  198\n",
      "added a new value to the array  142\n",
      "added a new value to the array  88\n",
      "added a new value to the array  49\n",
      "added a new value to the array  13\n",
      "added a new value to the array  2\n",
      "added a new value to the array  1\n",
      "added a new value to the array  2\n",
      "added a new value to the array  1\n",
      "added a new value to the array  2\n",
      "added a new value to the array  1\n",
      "added a new value to the array  2\n",
      "added a new value to the array  3\n",
      "added a new value to the array  2\n",
      "added a new value to the array  3\n",
      "added a new value to the array  1\n",
      "added a new value to the array  2\n",
      "added a new value to the array  1\n",
      "added a new value to the array  2\n",
      "added a new value to the array  2\n",
      "added a new value to the array  2\n",
      "added a new value to the array  3\n",
      "added a new value to the array  7\n",
      "added a new value to the array  56\n",
      "added a new value to the array  122\n",
      "added a new value to the array  166\n",
      "added a new value to the array  105\n",
      "added a new value to the array  39\n",
      "added a new value to the array  68\n",
      "added a new value to the array  196\n",
      "added a new value to the array  270\n",
      "added a new value to the array  228\n",
      "added a new value to the array  166\n",
      "added a new value to the array  180\n",
      "added a new value to the array  241\n",
      "added a new value to the array  278\n",
      "added a new value to the array  285\n",
      "added a new value to the array  294\n",
      "added a new value to the array  280\n",
      "added a new value to the array  294\n",
      "added a new value to the array  300\n",
      "added a new value to the array  278\n",
      "added a new value to the array  258\n",
      "added a new value to the array  251\n",
      "added a new value to the array  244\n",
      "added a new value to the array  230\n",
      "added a new value to the array  226\n",
      "added a new value to the array  233\n",
      "added a new value to the array  247\n",
      "added a new value to the array  239\n",
      "added a new value to the array  234\n",
      "added a new value to the array  225\n",
      "added a new value to the array  210\n",
      "added a new value to the array  198\n",
      "added a new value to the array  195\n",
      "added a new value to the array  183\n",
      "added a new value to the array  163\n",
      "added a new value to the array  173\n",
      "added a new value to the array  145\n",
      "added a new value to the array  145\n",
      "added a new value to the array  126\n",
      "added a new value to the array  99\n",
      "added a new value to the array  100\n",
      "added a new value to the array  89\n",
      "added a new value to the array  63\n",
      "added a new value to the array  53\n",
      "added a new value to the array  63\n",
      "added a new value to the array  46\n",
      "added a new value to the array  24\n",
      "added a new value to the array  41\n",
      "added a new value to the array  34\n",
      "added a new value to the array  17\n",
      "added a new value to the array  20\n",
      "added a new value to the array  17\n",
      "added a new value to the array  5\n",
      "added a new value to the array  1\n",
      "added a new value to the array  2\n",
      "CPU times: user 2.39 s, sys: 14.9 s, total: 17.3 s\n",
      "Wall time: 17.2 s\n"
     ]
    }
   ],
   "source": [
    "%%time\n",
    "with rasterio.open(filepath_rad, 'r') as src:\n",
    "    my_slice = np.full(src.count, np.nan)\n",
    "    for i in src.indexes:\n",
    "        # Read the layer from the Dataset Reader object\n",
    "        new_value = src.read(i)[row, col]\n",
    "        # Because the indexes are start from 1 but the elements of an array start from 0 we need to adjust \n",
    "        # by setting the new_value to the position i-1 \n",
    "        my_slice[i-1] = new_value\n",
    "        print('added a new value to the array ', new_value)"
   ]
  },
  {
   "cell_type": "markdown",
   "metadata": {},
   "source": [
    "**Graph it**"
   ]
  },
  {
   "cell_type": "code",
   "execution_count": 14,
   "metadata": {},
   "outputs": [
    {
     "data": {
      "image/png": "[encoded data removed]",
      "text/plain": [
       "<Figure size 432x288 with 1 Axes>"
      ]
     },
     "metadata": {
      "needs_background": "light"
     },
     "output_type": "display_data"
    }
   ],
   "source": [
    "plt.plot(indexes, my_slice)\n",
    "plt.xlabel('band number') \n",
    "# naming the y axis \n",
    "plt.ylabel('reflectance value') \n",
    "  \n",
    "# giving a title to my graph \n",
    "plt.title('Spectral Plot') \n",
    "\n",
    "# function to show the plot \n",
    "plt.show()"
   ]
  },
  {
   "cell_type": "markdown",
   "metadata": {},
   "source": [
    "## #3 Using `rasterio` Windows"
   ]
  },
  {
   "cell_type": "markdown",
   "metadata": {},
   "source": [
    "In this technique we are going to loop through each band of the raster very similarly to the last technique.  The difference is that instead of reading out the whole dataset we are going to use a rasterio object called a Window to access our data.  For a more in-depth explanation of Window objects see the \"Subsetting Data\" notebook.\n",
    "\n",
    "This technique should work well with the largest data files."
   ]
  },
  {
   "cell_type": "markdown",
   "metadata": {},
   "source": [
    "**Set up your input data**"
   ]
  },
  {
   "cell_type": "code",
   "execution_count": 15,
   "metadata": {},
   "outputs": [],
   "source": [
    "filepath_rad = '../input_data/f100520t01p00r08rdn_b/f100520t01p00r08rdn_b_sc01_ort_img'"
   ]
  },
  {
   "cell_type": "code",
   "execution_count": 16,
   "metadata": {},
   "outputs": [],
   "source": [
    "# Specify the row and column of the pixel whose values you want to plot\n",
    "row, col = (1000, 50)"
   ]
  },
  {
   "cell_type": "markdown",
   "metadata": {},
   "source": [
    "**Read each band and pull out your value**"
   ]
  },
  {
   "cell_type": "code",
   "execution_count": 17,
   "metadata": {},
   "outputs": [],
   "source": [
    "import numpy as np\n",
    "from rasterio.windows import Window"
   ]
  },
  {
   "cell_type": "markdown",
   "metadata": {},
   "source": [
    "A reminder about the syntax of the Window object:\n",
    "\n",
    "> Window(COLUMN_OFFSET, ROW_OFFSET, WIDTH, HEIGHT)\n",
    "\n",
    "The OFFSETs specify the row and column numbers of the upper left corner of your window.\n",
    "\n",
    "So getting the 1000-1800th row and 200-420th column with a window object would look like `Window(200, 1000, 220, 800)`."
   ]
  },
  {
   "cell_type": "code",
   "execution_count": 18,
   "metadata": {
    "scrolled": false
   },
   "outputs": [
    {
     "ename": "NameError",
     "evalue": "name 'window_array' is not defined",
     "output_type": "error",
     "traceback": [
      "\u001b[0;31m---------------------------------------------------------------------------\u001b[0m",
      "\u001b[0;31mNameError\u001b[0m                                 Traceback (most recent call last)",
      "\u001b[0;32m<timed exec>\u001b[0m in \u001b[0;36m<module>\u001b[0;34m\u001b[0m\n",
      "\u001b[0;31mNameError\u001b[0m: name 'window_array' is not defined"
     ]
    }
   ],
   "source": [
    "%%time\n",
    "with rasterio.open(filepath_rad, 'r') as src:\n",
    "    # We want our window to start at our target pixel and be 1 pixel in size\n",
    "    my_window = Window(col, row, 1, 1)\n",
    "    my_slice = src.read(window=my_window)\n",
    "    print(window_array.shape)"
   ]
  },
  {
   "cell_type": "code",
   "execution_count": 19,
   "metadata": {},
   "outputs": [
    {
     "data": {
      "text/plain": [
       "array([[[1301]],\n",
       "\n",
       "       [[1513]],\n",
       "\n",
       "       [[1572]],\n",
       "\n",
       "       [[1969]],\n",
       "\n",
       "       [[2778]],\n",
       "\n",
       "       [[2876]],\n",
       "\n",
       "       [[2726]],\n",
       "\n",
       "       [[2608]],\n",
       "\n",
       "       [[2905]],\n",
       "\n",
       "       [[3015]],\n",
       "\n",
       "       [[2987]],\n",
       "\n",
       "       [[2882]],\n",
       "\n",
       "       [[2800]],\n",
       "\n",
       "       [[2650]],\n",
       "\n",
       "       [[2557]],\n",
       "\n",
       "       [[2447]],\n",
       "\n",
       "       [[2303]],\n",
       "\n",
       "       [[2283]],\n",
       "\n",
       "       [[2261]],\n",
       "\n",
       "       [[2211]],\n",
       "\n",
       "       [[2125]],\n",
       "\n",
       "       [[2035]],\n",
       "\n",
       "       [[1986]],\n",
       "\n",
       "       [[1827]],\n",
       "\n",
       "       [[1803]],\n",
       "\n",
       "       [[1817]],\n",
       "\n",
       "       [[1755]],\n",
       "\n",
       "       [[1681]],\n",
       "\n",
       "       [[1675]],\n",
       "\n",
       "       [[1590]],\n",
       "\n",
       "       [[1549]],\n",
       "\n",
       "       [[1604]],\n",
       "\n",
       "       [[1535]],\n",
       "\n",
       "       [[1602]],\n",
       "\n",
       "       [[1574]],\n",
       "\n",
       "       [[1404]],\n",
       "\n",
       "       [[1287]],\n",
       "\n",
       "       [[1304]],\n",
       "\n",
       "       [[1184]],\n",
       "\n",
       "       [[ 919]],\n",
       "\n",
       "       [[1058]],\n",
       "\n",
       "       [[1237]],\n",
       "\n",
       "       [[1226]],\n",
       "\n",
       "       [[ 770]],\n",
       "\n",
       "       [[1117]],\n",
       "\n",
       "       [[1170]],\n",
       "\n",
       "       [[1081]],\n",
       "\n",
       "       [[1030]],\n",
       "\n",
       "       [[ 910]],\n",
       "\n",
       "       [[ 717]],\n",
       "\n",
       "       [[ 784]],\n",
       "\n",
       "       [[ 906]],\n",
       "\n",
       "       [[ 950]],\n",
       "\n",
       "       [[ 940]],\n",
       "\n",
       "       [[ 931]],\n",
       "\n",
       "       [[ 916]],\n",
       "\n",
       "       [[ 855]],\n",
       "\n",
       "       [[ 620]],\n",
       "\n",
       "       [[ 504]],\n",
       "\n",
       "       [[ 454]],\n",
       "\n",
       "       [[ 389]],\n",
       "\n",
       "       [[ 153]],\n",
       "\n",
       "       [[ 119]],\n",
       "\n",
       "       [[ 191]],\n",
       "\n",
       "       [[ 397]],\n",
       "\n",
       "       [[ 481]],\n",
       "\n",
       "       [[ 641]],\n",
       "\n",
       "       [[ 692]],\n",
       "\n",
       "       [[ 673]],\n",
       "\n",
       "       [[ 677]],\n",
       "\n",
       "       [[ 664]],\n",
       "\n",
       "       [[ 651]],\n",
       "\n",
       "       [[ 640]],\n",
       "\n",
       "       [[ 614]],\n",
       "\n",
       "       [[ 591]],\n",
       "\n",
       "       [[ 558]],\n",
       "\n",
       "       [[ 508]],\n",
       "\n",
       "       [[ 456]],\n",
       "\n",
       "       [[ 330]],\n",
       "\n",
       "       [[ 186]],\n",
       "\n",
       "       [[  35]],\n",
       "\n",
       "       [[  28]],\n",
       "\n",
       "       [[  52]],\n",
       "\n",
       "       [[  49]],\n",
       "\n",
       "       [[ 129]],\n",
       "\n",
       "       [[ 248]],\n",
       "\n",
       "       [[ 292]],\n",
       "\n",
       "       [[ 286]],\n",
       "\n",
       "       [[ 311]],\n",
       "\n",
       "       [[ 312]],\n",
       "\n",
       "       [[ 336]],\n",
       "\n",
       "       [[ 368]],\n",
       "\n",
       "       [[ 400]],\n",
       "\n",
       "       [[ 403]],\n",
       "\n",
       "       [[ 383]],\n",
       "\n",
       "       [[ 324]],\n",
       "\n",
       "       [[ 382]],\n",
       "\n",
       "       [[ 330]],\n",
       "\n",
       "       [[ 332]],\n",
       "\n",
       "       [[ 348]],\n",
       "\n",
       "       [[ 333]],\n",
       "\n",
       "       [[ 272]],\n",
       "\n",
       "       [[ 206]],\n",
       "\n",
       "       [[  84]],\n",
       "\n",
       "       [[  82]],\n",
       "\n",
       "       [[  45]],\n",
       "\n",
       "       [[   6]],\n",
       "\n",
       "       [[   3]],\n",
       "\n",
       "       [[   4]],\n",
       "\n",
       "       [[   5]],\n",
       "\n",
       "       [[  20]],\n",
       "\n",
       "       [[   3]],\n",
       "\n",
       "       [[   9]],\n",
       "\n",
       "       [[   7]],\n",
       "\n",
       "       [[   7]],\n",
       "\n",
       "       [[   9]],\n",
       "\n",
       "       [[  29]],\n",
       "\n",
       "       [[  35]],\n",
       "\n",
       "       [[  35]],\n",
       "\n",
       "       [[  58]],\n",
       "\n",
       "       [[ 156]],\n",
       "\n",
       "       [[ 272]],\n",
       "\n",
       "       [[ 357]],\n",
       "\n",
       "       [[ 417]],\n",
       "\n",
       "       [[ 459]],\n",
       "\n",
       "       [[ 486]],\n",
       "\n",
       "       [[ 501]],\n",
       "\n",
       "       [[ 479]],\n",
       "\n",
       "       [[ 430]],\n",
       "\n",
       "       [[ 431]],\n",
       "\n",
       "       [[ 445]],\n",
       "\n",
       "       [[ 413]],\n",
       "\n",
       "       [[ 417]],\n",
       "\n",
       "       [[ 437]],\n",
       "\n",
       "       [[ 432]],\n",
       "\n",
       "       [[ 398]],\n",
       "\n",
       "       [[ 397]],\n",
       "\n",
       "       [[ 388]],\n",
       "\n",
       "       [[ 381]],\n",
       "\n",
       "       [[ 377]],\n",
       "\n",
       "       [[ 357]],\n",
       "\n",
       "       [[ 340]],\n",
       "\n",
       "       [[ 321]],\n",
       "\n",
       "       [[ 298]],\n",
       "\n",
       "       [[ 270]],\n",
       "\n",
       "       [[ 243]],\n",
       "\n",
       "       [[ 231]],\n",
       "\n",
       "       [[ 198]],\n",
       "\n",
       "       [[ 142]],\n",
       "\n",
       "       [[  88]],\n",
       "\n",
       "       [[  49]],\n",
       "\n",
       "       [[  13]],\n",
       "\n",
       "       [[   2]],\n",
       "\n",
       "       [[   1]],\n",
       "\n",
       "       [[   2]],\n",
       "\n",
       "       [[   1]],\n",
       "\n",
       "       [[   2]],\n",
       "\n",
       "       [[   1]],\n",
       "\n",
       "       [[   2]],\n",
       "\n",
       "       [[   3]],\n",
       "\n",
       "       [[   2]],\n",
       "\n",
       "       [[   3]],\n",
       "\n",
       "       [[   1]],\n",
       "\n",
       "       [[   2]],\n",
       "\n",
       "       [[   1]],\n",
       "\n",
       "       [[   2]],\n",
       "\n",
       "       [[   2]],\n",
       "\n",
       "       [[   2]],\n",
       "\n",
       "       [[   3]],\n",
       "\n",
       "       [[   7]],\n",
       "\n",
       "       [[  56]],\n",
       "\n",
       "       [[ 122]],\n",
       "\n",
       "       [[ 166]],\n",
       "\n",
       "       [[ 105]],\n",
       "\n",
       "       [[  39]],\n",
       "\n",
       "       [[  68]],\n",
       "\n",
       "       [[ 196]],\n",
       "\n",
       "       [[ 270]],\n",
       "\n",
       "       [[ 228]],\n",
       "\n",
       "       [[ 166]],\n",
       "\n",
       "       [[ 180]],\n",
       "\n",
       "       [[ 241]],\n",
       "\n",
       "       [[ 278]],\n",
       "\n",
       "       [[ 285]],\n",
       "\n",
       "       [[ 294]],\n",
       "\n",
       "       [[ 280]],\n",
       "\n",
       "       [[ 294]],\n",
       "\n",
       "       [[ 300]],\n",
       "\n",
       "       [[ 278]],\n",
       "\n",
       "       [[ 258]],\n",
       "\n",
       "       [[ 251]],\n",
       "\n",
       "       [[ 244]],\n",
       "\n",
       "       [[ 230]],\n",
       "\n",
       "       [[ 226]],\n",
       "\n",
       "       [[ 233]],\n",
       "\n",
       "       [[ 247]],\n",
       "\n",
       "       [[ 239]],\n",
       "\n",
       "       [[ 234]],\n",
       "\n",
       "       [[ 225]],\n",
       "\n",
       "       [[ 210]],\n",
       "\n",
       "       [[ 198]],\n",
       "\n",
       "       [[ 195]],\n",
       "\n",
       "       [[ 183]],\n",
       "\n",
       "       [[ 163]],\n",
       "\n",
       "       [[ 173]],\n",
       "\n",
       "       [[ 145]],\n",
       "\n",
       "       [[ 145]],\n",
       "\n",
       "       [[ 126]],\n",
       "\n",
       "       [[  99]],\n",
       "\n",
       "       [[ 100]],\n",
       "\n",
       "       [[  89]],\n",
       "\n",
       "       [[  63]],\n",
       "\n",
       "       [[  53]],\n",
       "\n",
       "       [[  63]],\n",
       "\n",
       "       [[  46]],\n",
       "\n",
       "       [[  24]],\n",
       "\n",
       "       [[  41]],\n",
       "\n",
       "       [[  34]],\n",
       "\n",
       "       [[  17]],\n",
       "\n",
       "       [[  20]],\n",
       "\n",
       "       [[  17]],\n",
       "\n",
       "       [[   5]],\n",
       "\n",
       "       [[   1]],\n",
       "\n",
       "       [[   2]]], dtype=int16)"
      ]
     },
     "execution_count": 19,
     "metadata": {},
     "output_type": "execute_result"
    }
   ],
   "source": [
    "my_slice"
   ]
  },
  {
   "cell_type": "markdown",
   "metadata": {},
   "source": [
    "Looking at the output we see that instead of an array of data values we have an array of arrays of arrays of data values.  The way to describe this is that we have \"too many dimensions\". To get to the first value we want to be able to run `my_slice[0]`, not `my_slice[0][0][0]`.  To fix this we use the `np.squeeze()` function."
   ]
  },
  {
   "cell_type": "code",
   "execution_count": 20,
   "metadata": {},
   "outputs": [
    {
     "name": "stdout",
     "output_type": "stream",
     "text": [
      "[1301 1513 1572 1969 2778 2876 2726 2608 2905 3015 2987 2882 2800 2650\n",
      " 2557 2447 2303 2283 2261 2211 2125 2035 1986 1827 1803 1817 1755 1681\n",
      " 1675 1590 1549 1604 1535 1602 1574 1404 1287 1304 1184  919 1058 1237\n",
      " 1226  770 1117 1170 1081 1030  910  717  784  906  950  940  931  916\n",
      "  855  620  504  454  389  153  119  191  397  481  641  692  673  677\n",
      "  664  651  640  614  591  558  508  456  330  186   35   28   52   49\n",
      "  129  248  292  286  311  312  336  368  400  403  383  324  382  330\n",
      "  332  348  333  272  206   84   82   45    6    3    4    5   20    3\n",
      "    9    7    7    9   29   35   35   58  156  272  357  417  459  486\n",
      "  501  479  430  431  445  413  417  437  432  398  397  388  381  377\n",
      "  357  340  321  298  270  243  231  198  142   88   49   13    2    1\n",
      "    2    1    2    1    2    3    2    3    1    2    1    2    2    2\n",
      "    3    7   56  122  166  105   39   68  196  270  228  166  180  241\n",
      "  278  285  294  280  294  300  278  258  251  244  230  226  233  247\n",
      "  239  234  225  210  198  195  183  163  173  145  145  126   99  100\n",
      "   89   63   53   63   46   24   41   34   17   20   17    5    1    2]\n"
     ]
    }
   ],
   "source": [
    "my_slice = np.squeeze(my_slice)\n",
    "print(my_slice)"
   ]
  },
  {
   "cell_type": "markdown",
   "metadata": {},
   "source": [
    "**Graph it**"
   ]
  },
  {
   "cell_type": "code",
   "execution_count": 21,
   "metadata": {},
   "outputs": [
    {
     "data": {
      "image/png": "[encoded data removed]",
      "text/plain": [
       "<Figure size 432x288 with 1 Axes>"
      ]
     },
     "metadata": {
      "needs_background": "light"
     },
     "output_type": "display_data"
    }
   ],
   "source": [
    "plt.plot(indexes, my_slice)\n",
    "plt.xlabel('band number') \n",
    "# naming the y axis \n",
    "plt.ylabel('reflectance value') \n",
    "  \n",
    "# giving a title to my graph \n",
    "plt.title('Spectral Plot') \n",
    "\n",
    "# function to show the plot \n",
    "plt.show()"
   ]
  },
  {
   "cell_type": "markdown",
   "metadata": {},
   "source": [
    "## A comment about the plots"
   ]
  },
  {
   "cell_type": "markdown",
   "metadata": {},
   "source": [
    "I used band number in this plot because it was easy, but you might be more interested in plotting the actual wavelenght.  If you have of wavelengths you could just as easily use those values on the x-axis."
   ]
  },
  {
   "cell_type": "code",
   "execution_count": 22,
   "metadata": {},
   "outputs": [],
   "source": [
    "import numpy as np"
   ]
  },
  {
   "cell_type": "code",
   "execution_count": 23,
   "metadata": {},
   "outputs": [],
   "source": [
    "my_fake_wavelengths = np.linspace(start=400, stop=2450, num=224)"
   ]
  },
  {
   "cell_type": "code",
   "execution_count": 24,
   "metadata": {},
   "outputs": [
    {
     "data": {
      "image/png": "[encoded data removed]",
      "text/plain": [
       "<Figure size 432x288 with 1 Axes>"
      ]
     },
     "metadata": {
      "needs_background": "light"
     },
     "output_type": "display_data"
    }
   ],
   "source": [
    "plt.plot(my_fake_wavelengths, my_slice)\n",
    "plt.xlabel('my fake wavelengths (nm)') \n",
    "# naming the y axis \n",
    "plt.ylabel('radiance value') \n",
    "  \n",
    "# giving a title to my graph \n",
    "plt.title('Spectral Plot') \n",
    "\n",
    "# function to show the plot \n",
    "plt.show()"
   ]
  },
  {
   "cell_type": "code",
   "execution_count": null,
   "metadata": {},
   "outputs": [],
   "source": []
  }
 ],
 "metadata": {
  "kernelspec": {
   "display_name": "Python 3",
   "language": "python",
   "name": "python3"
  },
  "language_info": {
   "codemirror_mode": {
    "name": "ipython",
    "version": 3
   },
   "file_extension": ".py",
   "mimetype": "text/x-python",
   "name": "python",
   "nbconvert_exporter": "python",
   "pygments_lexer": "ipython3",
   "version": "3.8.1"
  }
 },
 "nbformat": 4,
 "nbformat_minor": 4
}
