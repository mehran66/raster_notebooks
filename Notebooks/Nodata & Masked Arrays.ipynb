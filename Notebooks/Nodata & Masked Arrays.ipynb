{
 "cells": [
  {
   "cell_type": "markdown",
   "metadata": {},
   "source": [
    "# Masked Arrays - Dealing with nodata"
   ]
  },
  {
   "cell_type": "markdown",
   "metadata": {},
   "source": [
    "Masked arrays are similar to regular arrays but provide additional functionality related to nodata values.  Because the AVIRIS data is _skewed_ (the bounds of the data do not follow grid lines) there is a lot of nodata present and it might often be convenient to work with masked arrays.  The downside of masked arrays is that not every function available to a regular ndarray is available for masked arrays and also keeping track of both the data and the mask can be an added layer of complication."
   ]
  },
  {
   "cell_type": "code",
   "execution_count": null,
   "metadata": {},
   "outputs": [],
   "source": [
    "# All notebook imports\n",
    "import rasterio\n",
    "import numpy.ma as ma"
   ]
  },
  {
   "cell_type": "markdown",
   "metadata": {},
   "source": [
    "## Creating a masked array"
   ]
  },
  {
   "cell_type": "markdown",
   "metadata": {},
   "source": [
    "Let's start by getting a band of data from our dataset."
   ]
  },
  {
   "cell_type": "code",
   "execution_count": 1,
   "metadata": {},
   "outputs": [],
   "source": [
    "import rasterio"
   ]
  },
  {
   "cell_type": "code",
   "execution_count": 2,
   "metadata": {},
   "outputs": [],
   "source": [
    "filepath_rad = '../input_data/f100520t01p00r08rdn_b/f100520t01p00r08rdn_b_sc01_ort_img'"
   ]
  },
  {
   "cell_type": "code",
   "execution_count": 3,
   "metadata": {},
   "outputs": [],
   "source": [
    "with rasterio.open(filepath_rad, 'r') as src:\n",
    "    band=src.read(3)"
   ]
  },
  {
   "cell_type": "markdown",
   "metadata": {},
   "source": [
    "To create the masked array we need to import a new numpy module."
   ]
  },
  {
   "cell_type": "code",
   "execution_count": 4,
   "metadata": {},
   "outputs": [],
   "source": [
    "import numpy.ma as ma"
   ]
  },
  {
   "cell_type": "markdown",
   "metadata": {},
   "source": [
    "We then go through two steps:\n",
    "1. add a datamask by indicating which value we want masked and on which array\n",
    "2. set the _fill value_ , the nodata value, for the array"
   ]
  },
  {
   "cell_type": "code",
   "execution_count": 5,
   "metadata": {},
   "outputs": [],
   "source": [
    "# Mask the array\n",
    "masked_band = ma.masked_where(band == -50, band)\n",
    "# Update the nodata value\n",
    "ma.set_fill_value(masked_band, -50)"
   ]
  },
  {
   "cell_type": "code",
   "execution_count": 6,
   "metadata": {},
   "outputs": [
    {
     "data": {
      "text/plain": [
       "masked_array(\n",
       "  data=[[--, --, --, ..., --, --, --],\n",
       "        [--, --, --, ..., --, --, --],\n",
       "        [--, --, --, ..., --, --, --],\n",
       "        ...,\n",
       "        [--, --, --, ..., --, --, --],\n",
       "        [--, --, --, ..., --, --, --],\n",
       "        [--, --, --, ..., --, --, --]],\n",
       "  mask=[[ True,  True,  True, ...,  True,  True,  True],\n",
       "        [ True,  True,  True, ...,  True,  True,  True],\n",
       "        [ True,  True,  True, ...,  True,  True,  True],\n",
       "        ...,\n",
       "        [ True,  True,  True, ...,  True,  True,  True],\n",
       "        [ True,  True,  True, ...,  True,  True,  True],\n",
       "        [ True,  True,  True, ...,  True,  True,  True]],\n",
       "  fill_value=-50,\n",
       "  dtype=int16)"
      ]
     },
     "execution_count": 6,
     "metadata": {},
     "output_type": "execute_result"
    }
   ],
   "source": [
    "masked_band"
   ]
  },
  {
   "cell_type": "markdown",
   "metadata": {},
   "source": [
    "Looking at the output of the masked band we can see that the masked array has two parts - the data and the mask.  The data has the mask applied to it, meaning that we can't see the -50 values anymore we just see `--`.  The mask is a _boolean array_, an array of True and False values, that indicates if that location is masked or not in the original array.  The `fill_value` is the same as the nodata value."
   ]
  },
  {
   "cell_type": "markdown",
   "metadata": {},
   "source": [
    "We can confirm that the masked array is different from the original data by comparing our source `band` to the `masked_band` object we just created."
   ]
  },
  {
   "cell_type": "code",
   "execution_count": 7,
   "metadata": {},
   "outputs": [
    {
     "name": "stdout",
     "output_type": "stream",
     "text": [
      "-- MINIMUM VALUE\n",
      "min numpy:  -50\n",
      "min masked:  1261\n",
      "-- MAXIMUM VALUE\n",
      "max numpy:  3451\n",
      "max masked:  3451\n",
      "-- MEAN VALUE\n",
      "mean numpy:  1384.6904285991725\n",
      "mean masked:  1574.0858305373667\n"
     ]
    }
   ],
   "source": [
    "# Comparing exploratory statistics\n",
    "print('-- MINIMUM VALUE')\n",
    "print('min numpy: ', band.min())\n",
    "print('min masked: ', masked_band.min())\n",
    "print('-- MAXIMUM VALUE')\n",
    "print('max numpy: ', band.max())\n",
    "print('max masked: ', masked_band.max())\n",
    "print('-- MEAN VALUE')\n",
    "print('mean numpy: ', band.mean())\n",
    "print('mean masked: ', masked_band.mean())"
   ]
  },
  {
   "cell_type": "markdown",
   "metadata": {},
   "source": [
    "## Mask vs. Data vs. Masked Array"
   ]
  },
  {
   "cell_type": "markdown",
   "metadata": {},
   "source": [
    "The benefit of the masked array is that we have a more in-depth mechanism of working with nodata.  The added layer of complication is that we have to juggle the three different objects: \n",
    "* the mask - the True/False array (`masked_band.mask`)\n",
    "* the data - the source values (`masked_band.data`)\n",
    "* the masked array - the python object that blends the two together (`masked_band`)"
   ]
  },
  {
   "cell_type": "markdown",
   "metadata": {},
   "source": [
    "Let's look at some output to clarify the distinction."
   ]
  },
  {
   "cell_type": "code",
   "execution_count": 8,
   "metadata": {},
   "outputs": [
    {
     "name": "stdout",
     "output_type": "stream",
     "text": [
      "masked array  --\n",
      "mask  True\n",
      "data  -50\n"
     ]
    }
   ],
   "source": [
    "print('masked array ', masked_band[0,0])\n",
    "print('mask ', masked_band.mask[0,0])\n",
    "print('data ', masked_band.data[0,0])"
   ]
  },
  {
   "cell_type": "code",
   "execution_count": 9,
   "metadata": {},
   "outputs": [
    {
     "name": "stdout",
     "output_type": "stream",
     "text": [
      "masked array  1574.0858305373667\n",
      "mask  0.11661662110279508\n",
      "data  1384.6904285991725\n"
     ]
    }
   ],
   "source": [
    "print('masked array ', masked_band.mean())\n",
    "print('mask ', masked_band.mask.mean())\n",
    "print('data ', masked_band.data.mean())"
   ]
  },
  {
   "cell_type": "code",
   "execution_count": null,
   "metadata": {},
   "outputs": [],
   "source": []
  }
 ],
 "metadata": {
  "kernelspec": {
   "display_name": "Python 3",
   "language": "python",
   "name": "python3"
  },
  "language_info": {
   "codemirror_mode": {
    "name": "ipython",
    "version": 3
   },
   "file_extension": ".py",
   "mimetype": "text/x-python",
   "name": "python",
   "nbconvert_exporter": "python",
   "pygments_lexer": "ipython3",
   "version": "3.8.1"
  }
 },
 "nbformat": 4,
 "nbformat_minor": 4
}
