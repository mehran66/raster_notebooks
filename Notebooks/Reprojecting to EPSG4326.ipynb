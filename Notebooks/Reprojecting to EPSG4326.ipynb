{
 "cells": [
  {
   "cell_type": "markdown",
   "metadata": {},
   "source": [
    "# Reprojecting to EPSG:4326"
   ]
  },
  {
   "cell_type": "markdown",
   "metadata": {},
   "source": [
    "The same place on earth can be described in different ways depending on your coordiante reference system and map projection.  Sometimes you have a location description in one system but you would like to convert it to another.  This process is called reprojecting and it is the subject of this noteook."
   ]
  },
  {
   "cell_type": "code",
   "execution_count": 1,
   "metadata": {},
   "outputs": [],
   "source": [
    "# All imports for this notebook\n",
    "import rasterio\n",
    "from shapely.geometry import box\n",
    "import rasterio.plot as rplot\n",
    "import os"
   ]
  },
  {
   "cell_type": "markdown",
   "metadata": {},
   "source": [
    "## Vectors and Rasters"
   ]
  },
  {
   "cell_type": "markdown",
   "metadata": {},
   "source": [
    "The two main sections of this notebook are:\n",
    "1. Reprojecting Vector Objects\n",
    "2. Reprojecting Raster Objects\n",
    "\n",
    "To recap the difference, vector objects are a single point or a series of points that make a shape, whereas raster data is the pixel structure discussed in other notebooks."
   ]
  },
  {
   "cell_type": "code",
   "execution_count": 2,
   "metadata": {},
   "outputs": [],
   "source": [
    "from IPython.display import Image"
   ]
  },
  {
   "cell_type": "code",
   "execution_count": 3,
   "metadata": {
    "scrolled": true
   },
   "outputs": [
    {
     "data": {
      "text/html": [
       "<img src=\"https://www.firenorth.org.au/nafi3/images/help/image036.png\" width=\"330\"/>"
      ],
      "text/plain": [
       "<IPython.core.display.Image object>"
      ]
     },
     "execution_count": 3,
     "metadata": {},
     "output_type": "execute_result"
    }
   ],
   "source": [
    "Image(url= \"https://www.firenorth.org.au/nafi3/images/help/image036.png\", width=330)"
   ]
  },
  {
   "cell_type": "markdown",
   "metadata": {},
   "source": [
    "Working with vector data like points or a bounding box requires a new library - `shapley`.  So now our two main spatial libraries are:\n",
    "* `shapely` - vector data, such as points and polygons\n",
    "* `rasterio` - raster data, such as satellite imagery"
   ]
  },
  {
   "cell_type": "markdown",
   "metadata": {},
   "source": [
    "## Reprojecting vector objects"
   ]
  },
  {
   "cell_type": "markdown",
   "metadata": {},
   "source": [
    "### The Reproject Function"
   ]
  },
  {
   "cell_type": "markdown",
   "metadata": {},
   "source": [
    "This code is a custom function that we are defining and calling `reproject_vector`.  It uses some less-common functionality so I am not going to dig into the inside of this function.  For now just know that once you run this cell you can call `reproject_vector()` as a function for the rest of the notebook."
   ]
  },
  {
   "cell_type": "code",
   "execution_count": 4,
   "metadata": {},
   "outputs": [],
   "source": [
    "import pyproj\n",
    "from shapely import ops\n",
    "from functools import partial\n",
    "\n",
    "def reproject_vector(geom, from_proj=None, to_proj=None):\n",
    "    \"\"\"\n",
    "    Recommended function provided by shapely for projection transformations\n",
    "    :param geom: shapely geometry object\n",
    "    :param to_proj: source projection string\n",
    "    :param from_proj: destination projection string\n",
    "    :return: reprojected shapely geometry\n",
    "    \"\"\"\n",
    "    tfm = partial(pyproj.transform, pyproj.Proj(from_proj), pyproj.Proj(to_proj))\n",
    "    return ops.transform(tfm, geom)"
   ]
  },
  {
   "cell_type": "markdown",
   "metadata": {},
   "source": [
    "## Reprojecting a Point or Bounding Box"
   ]
  },
  {
   "cell_type": "markdown",
   "metadata": {},
   "source": [
    "**Step 1 - Define the shape we want to reproject**\n",
    "\n",
    "Let's pick a shape to reproject.\n",
    "\n",
    "For these examples I am going to reproject three objects:\n",
    "1. the bounding box of the raster, which is a polygon\n",
    "2. the geometric center of our raster (the **centroid**), which is a point\n",
    "3. a random point I define myself"
   ]
  },
  {
   "cell_type": "code",
   "execution_count": 5,
   "metadata": {},
   "outputs": [],
   "source": [
    "import rasterio\n",
    "from shapely.geometry import box"
   ]
  },
  {
   "cell_type": "code",
   "execution_count": 6,
   "metadata": {},
   "outputs": [],
   "source": [
    "filepath_rad = '../input_data/f100520t01p00r08rdn_b/f100520t01p00r08rdn_b_sc01_ort_img'\n",
    "with rasterio.open(filepath_rad, 'r') as src:\n",
    "    bbox = src.bounds"
   ]
  },
  {
   "cell_type": "code",
   "execution_count": 7,
   "metadata": {},
   "outputs": [
    {
     "name": "stdout",
     "output_type": "stream",
     "text": [
      "Centroid:  POINT (490183.9700000001 3357375.75)\n",
      "Bounding box:  POLYGON ((504582.17 3350578.5, 504582.17 3364173, 475785.77 3364173, 475785.77 3350578.5, 504582.17 3350578.5))\n"
     ]
    }
   ],
   "source": [
    "utm_bbox = box(*bbox)\n",
    "utm_centroid = utm_bbox.centroid\n",
    "print('Centroid: ', utm_centroid)\n",
    "print('Bounding box: ', utm_bbox)"
   ]
  },
  {
   "cell_type": "markdown",
   "metadata": {},
   "source": [
    "The object that is returned from from the `.centroid` method is a shapley `Point` object.  The object produced in with the `box()` method is a `Polygon`."
   ]
  },
  {
   "cell_type": "markdown",
   "metadata": {},
   "source": [
    "Alternatively, we could use some other random point, but we will have to create that `Point` object ourselves."
   ]
  },
  {
   "cell_type": "code",
   "execution_count": 8,
   "metadata": {},
   "outputs": [],
   "source": [
    "from shapely.geometry import Point"
   ]
  },
  {
   "cell_type": "code",
   "execution_count": 9,
   "metadata": {},
   "outputs": [],
   "source": [
    "# utm_point = Point(500000, 0)\n",
    "utm_point = Point(475785.77, 3350578.5)"
   ]
  },
  {
   "cell_type": "markdown",
   "metadata": {},
   "source": [
    "Notice that I chose a point which was at the center easting and sits on the equator (assuming a northern hemisphere grid).  We should be able to check that in our output."
   ]
  },
  {
   "cell_type": "markdown",
   "metadata": {},
   "source": [
    "**Step 2 - Define the input and output coordinate reference systems**\n",
    "\n",
    "The source crs we can pull directly from the raster.  For the output since we want latitude and longitude as a result we can manually specify `EPSG:4326`."
   ]
  },
  {
   "cell_type": "code",
   "execution_count": 10,
   "metadata": {},
   "outputs": [
    {
     "name": "stdout",
     "output_type": "stream",
     "text": [
      "source crs is:  EPSG:32616\n"
     ]
    }
   ],
   "source": [
    "with rasterio.open(filepath_rad, 'r') as src:\n",
    "    src_crs = src.crs\n",
    "print('source crs is: ', src_crs)"
   ]
  },
  {
   "cell_type": "code",
   "execution_count": 11,
   "metadata": {},
   "outputs": [
    {
     "name": "stdout",
     "output_type": "stream",
     "text": [
      "destination crs is:  EPSG:4326\n"
     ]
    }
   ],
   "source": [
    "dst_crs = 'EPSG:4326'\n",
    "print('destination crs is: ', dst_crs)"
   ]
  },
  {
   "cell_type": "markdown",
   "metadata": {},
   "source": [
    "**Step 3 - Input the shape into our reproject function**\n",
    "\n",
    "Once our point is defined we can input it into our reproject function."
   ]
  },
  {
   "cell_type": "code",
   "execution_count": 12,
   "metadata": {},
   "outputs": [],
   "source": [
    "wgs84_point = reproject_vector(utm_point, from_proj=src_crs, to_proj=dst_crs)\n",
    "wgs84_centroid = reproject_vector(utm_centroid, from_proj=src_crs, to_proj=dst_crs)\n",
    "wgs84_bbox = reproject_vector(utm_bbox, from_proj=src_crs, to_proj=dst_crs)"
   ]
  },
  {
   "cell_type": "code",
   "execution_count": 13,
   "metadata": {
    "scrolled": true
   },
   "outputs": [
    {
     "name": "stdout",
     "output_type": "stream",
     "text": [
      "random point in 4326:  POINT (30.28667237000204 -87.25178719598659)\n",
      "centroid in 4326:  POINT (30.34821418934487 -87.10213411955947)\n",
      "bounding box in 4326:  POLYGON ((30.28690584349906 -86.95235296598685, 30.40958435532548 -86.9522934966751, 30.40934973837654 -87.25210145321883, 30.28667237000204 -87.25178719598659, 30.28690584349906 -86.95235296598685))\n"
     ]
    }
   ],
   "source": [
    "print('random point in 4326: ', wgs84_point)\n",
    "print('centroid in 4326: ', wgs84_centroid)\n",
    "print('bounding box in 4326: ', wgs84_bbox)"
   ]
  },
  {
   "cell_type": "markdown",
   "metadata": {},
   "source": [
    "# Reprojecting a raster"
   ]
  },
  {
   "cell_type": "markdown",
   "metadata": {},
   "source": [
    "### Defining the Function"
   ]
  },
  {
   "cell_type": "markdown",
   "metadata": {},
   "source": [
    "Reprojecting a raster is a bit more complicated than reprojecting vectors.  If you are interested in the nuts and bolts certainly take the time to walk through this function step by step.  Otherwise I would treat this function like the vector `reproject_vector` function, as a cell of code where you supply the inputs.\n",
    "\n",
    "The code I have below is just a function of the code supplied in the [rasterio docs](https://rasterio.readthedocs.io/en/latest/topics/reproject.html)."
   ]
  },
  {
   "cell_type": "code",
   "execution_count": 14,
   "metadata": {},
   "outputs": [],
   "source": [
    "import numpy as np\n",
    "import rasterio\n",
    "from rasterio.warp import calculate_default_transform, reproject, Resampling\n",
    "\n",
    "# Raster reproject function\n",
    "def reproject_raster(input_filepath, output_filepath, dst_crs):\n",
    "    \"\"\"\n",
    "    Recommended function provided by rasterio for raster transformations\n",
    "    :param input_filepath: the absolute or relative filepath of the raster to reproject\n",
    "    :param output_filepath: where to save the reprojected file\n",
    "    :param dst_crs: the crs to which to reproject the raster\n",
    "    \"\"\"\n",
    "    with rasterio.open(input_filepath) as src:\n",
    "        transform, width, height = calculate_default_transform(\n",
    "            src.crs, dst_crs, src.width, src.height, *src.bounds)\n",
    "        kwargs = src.meta.copy()\n",
    "        kwargs.update({\n",
    "            'crs': dst_crs,\n",
    "            'transform': transform,\n",
    "            'width': width,\n",
    "            'height': height\n",
    "        })\n",
    "\n",
    "        with rasterio.open(output_filepath, 'w', **kwargs) as dst:\n",
    "            for i in range(1, src.count + 1):\n",
    "                reproject(\n",
    "                    source=rasterio.band(src, i),\n",
    "                    destination=rasterio.band(dst, i),\n",
    "                    src_transform=src.transform,\n",
    "                    src_crs=src.crs,\n",
    "                    dst_transform=transform,\n",
    "                    dst_crs=dst_crs,\n",
    "                    resampling=Resampling.nearest)"
   ]
  },
  {
   "cell_type": "markdown",
   "metadata": {},
   "source": [
    "### Running the Function"
   ]
  },
  {
   "cell_type": "code",
   "execution_count": 15,
   "metadata": {},
   "outputs": [],
   "source": [
    "# Make the output directory if it does not exist yet\n",
    "import os\n",
    "if not os.path.exists('../output_data'):\n",
    "    os.makedirs('../output_data')"
   ]
  },
  {
   "cell_type": "code",
   "execution_count": 16,
   "metadata": {},
   "outputs": [],
   "source": [
    "# Define our inputs\n",
    "filepath_rad = '../input_data/f100520t01p00r08rdn_b/f100520t01p00r08rdn_b_sc01_ort_img'\n",
    "output_path = '../output_data/ort_img_4326'\n",
    "\n",
    "# Run the function\n",
    "reproject_raster(filepath_rad, output_path, 'EPSG:4326')"
   ]
  },
  {
   "cell_type": "markdown",
   "metadata": {},
   "source": [
    "If we now open up our new raster we can see the output file.  Notice how the bounds changed to use our new coordinate system!"
   ]
  },
  {
   "cell_type": "code",
   "execution_count": 17,
   "metadata": {},
   "outputs": [],
   "source": [
    "import rasterio.plot as rplot"
   ]
  },
  {
   "cell_type": "code",
   "execution_count": 18,
   "metadata": {},
   "outputs": [
    {
     "name": "stdout",
     "output_type": "stream",
     "text": [
      "{'driver': 'ENVI', 'dtype': 'int16', 'nodata': None, 'width': 1724, 'height': 707, 'count': 224, 'crs': CRS.from_epsg(4326), 'transform': Affine(0.000173874084932819, -0.0, -87.2521014532188,\n",
      "       -0.0, -0.000173874084932819, 30.4095930403477)}\n"
     ]
    },
    {
     "data": {
      "image/png": "[encoded data removed]",
      "text/plain": [
       "<Figure size 432x288 with 1 Axes>"
      ]
     },
     "metadata": {
      "needs_background": "light"
     },
     "output_type": "display_data"
    }
   ],
   "source": [
    "with rasterio.open(output_path, 'r') as src:\n",
    "    print(src.meta)\n",
    "    rplot.show(src)"
   ]
  },
  {
   "cell_type": "markdown",
   "metadata": {},
   "source": [
    "Also notice in the metadata that the height and width have changed from the original source data.  This is because when reprojecting raster data we actually change it a little."
   ]
  },
  {
   "cell_type": "code",
   "execution_count": null,
   "metadata": {},
   "outputs": [],
   "source": []
  }
 ],
 "metadata": {
  "kernelspec": {
   "display_name": "Python 3",
   "language": "python",
   "name": "python3"
  },
  "language_info": {
   "codemirror_mode": {
    "name": "ipython",
    "version": 3
   },
   "file_extension": ".py",
   "mimetype": "text/x-python",
   "name": "python",
   "nbconvert_exporter": "python",
   "pygments_lexer": "ipython3",
   "version": "3.8.1"
  }
 },
 "nbformat": 4,
 "nbformat_minor": 4
}
