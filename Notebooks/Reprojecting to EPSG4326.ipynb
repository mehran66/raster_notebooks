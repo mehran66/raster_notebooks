{
 "cells": [
  {
   "cell_type": "markdown",
   "metadata": {},
   "source": [
    "# Reprojecting vector objects"
   ]
  },
  {
   "cell_type": "markdown",
   "metadata": {},
   "source": [
    "Introducing a point or a bounding box involves introducing a new library - `shapley`.  Shapely is a library that handles vector data, such as points and polygons, as opposed to `rasterio` the raster data that is used in other notebooks."
   ]
  },
  {
   "cell_type": "code",
   "execution_count": 1,
   "metadata": {},
   "outputs": [],
   "source": [
    "from IPython.display import Image"
   ]
  },
  {
   "cell_type": "code",
   "execution_count": 2,
   "metadata": {},
   "outputs": [
    {
     "data": {
      "text/html": [
       "<img src=\"https://lh3.googleusercontent.com/proxy/LHbeQ132hF_CGGOSnP7tH12Hea26qfaGmiHFICPMA7emrKvXc-FnPCWXqqQgXbwm_HtLfMnrDRHY0Ub4WReyzhVvl--U71lz2-RSPJoUk5lUqe_ZsZEJ6lm_wAc7cftg3Gcq2tKhs2qobaCc\" width=\"330\"/>"
      ],
      "text/plain": [
       "<IPython.core.display.Image object>"
      ]
     },
     "execution_count": 2,
     "metadata": {},
     "output_type": "execute_result"
    }
   ],
   "source": [
    "Image(url= \"https://lh3.googleusercontent.com/proxy/LHbeQ132hF_CGGOSnP7tH12Hea26qfaGmiHFICPMA7emrKvXc-FnPCWXqqQgXbwm_HtLfMnrDRHY0Ub4WReyzhVvl--U71lz2-RSPJoUk5lUqe_ZsZEJ6lm_wAc7cftg3Gcq2tKhs2qobaCc\", width=330)"
   ]
  },
  {
   "cell_type": "markdown",
   "metadata": {},
   "source": [
    "### The Reproject Function"
   ]
  },
  {
   "cell_type": "markdown",
   "metadata": {},
   "source": [
    "This code is a custom function that we are defining and calling `reproject`.  It uses some less-common functionality so I am not going to dig into the inside of this function.  For now just know that once you run this cell you can call `reproject()` as a function for the rest of the notebook."
   ]
  },
  {
   "cell_type": "code",
   "execution_count": 3,
   "metadata": {},
   "outputs": [],
   "source": [
    "import pyproj\n",
    "from shapely import ops\n",
    "from functools import partial\n",
    "\n",
    "def reproject(geom, from_proj=None, to_proj=None):\n",
    "    \"\"\"\n",
    "    Recommended function provided by shapely for projection transformations\n",
    "    :param geom: shapely geometry object\n",
    "    :param to_proj: source projection string\n",
    "    :param from_proj: destination projection string\n",
    "    :return: reprojected shapely geometry\n",
    "    \"\"\"\n",
    "    tfm = partial(pyproj.transform, pyproj.Proj(from_proj), pyproj.Proj(to_proj))\n",
    "    return ops.transform(tfm, geom)"
   ]
  },
  {
   "cell_type": "markdown",
   "metadata": {},
   "source": [
    "## Reprojecting a Point or Bounding Box"
   ]
  },
  {
   "cell_type": "markdown",
   "metadata": {},
   "source": [
    "**Step 1 - Define the shape we want to reproject**\n",
    "\n",
    "Let's pick a shape to reproject.\n",
    "\n",
    "I want to pick the bounding box of the raster as a polygon to reproject and the geometric center of our raster (the **centroid**) as a point."
   ]
  },
  {
   "cell_type": "code",
   "execution_count": 4,
   "metadata": {},
   "outputs": [],
   "source": [
    "import rasterio\n",
    "from shapely.geometry import box"
   ]
  },
  {
   "cell_type": "code",
   "execution_count": 5,
   "metadata": {},
   "outputs": [],
   "source": [
    "filepath = '../input_data/f150131t01p00r10_refl/f150131t01p00r10_h2o_v1'\n",
    "with rasterio.open(filepath, 'r') as src:\n",
    "    bbox = src.bounds"
   ]
  },
  {
   "cell_type": "code",
   "execution_count": 6,
   "metadata": {},
   "outputs": [
    {
     "name": "stdout",
     "output_type": "stream",
     "text": [
      "Centroid:  POINT (309240.5240943021 3892606.015206081)\n",
      "Bounding box:  POLYGON ((339811.7357139058 3817906.830412161, 339811.7357139058 3967305.2, 278669.3124746986 3967305.2, 278669.3124746986 3817906.830412161, 339811.7357139058 3817906.830412161))\n"
     ]
    }
   ],
   "source": [
    "utm_bbox = box(*bbox)\n",
    "utm_centroid = utm_bbox.centroid\n",
    "print('Centroid: ', utm_centroid)\n",
    "print('Bounding box: ', utm_bbox)"
   ]
  },
  {
   "cell_type": "markdown",
   "metadata": {},
   "source": [
    "The object that is returned from from the `.centroid` method is a `shapely.geometry.point.Point` object."
   ]
  },
  {
   "cell_type": "markdown",
   "metadata": {},
   "source": [
    "Alternatively, we could use some other random point, but we will have to create that `Point` object ourselves."
   ]
  },
  {
   "cell_type": "code",
   "execution_count": 7,
   "metadata": {},
   "outputs": [],
   "source": [
    "from shapely.geometry import Point"
   ]
  },
  {
   "cell_type": "code",
   "execution_count": 8,
   "metadata": {},
   "outputs": [],
   "source": [
    "utm_point = Point(500000, 0)"
   ]
  },
  {
   "cell_type": "markdown",
   "metadata": {},
   "source": [
    "Notice that I chose a point which was at the center easting and sits on the equator (assuming a northern hemisphere grid).  We should be able to check that in our output."
   ]
  },
  {
   "cell_type": "markdown",
   "metadata": {},
   "source": [
    "**Step 2 - Define the input and output coordinate reference systems**\n",
    "\n",
    "The source crs we can pull directly from the raster.  Since we want latitude and longitude as a result we can manually specify `EPSG:4326`."
   ]
  },
  {
   "cell_type": "code",
   "execution_count": 9,
   "metadata": {},
   "outputs": [
    {
     "name": "stdout",
     "output_type": "stream",
     "text": [
      "source crs is:  EPSG:32610\n"
     ]
    }
   ],
   "source": [
    "with rasterio.open(filepath, 'r') as src:\n",
    "    src_crs = src.crs\n",
    "print('source crs is: ', src_crs)"
   ]
  },
  {
   "cell_type": "code",
   "execution_count": 10,
   "metadata": {},
   "outputs": [
    {
     "name": "stdout",
     "output_type": "stream",
     "text": [
      "destination crs is:  EPSG:4326\n"
     ]
    }
   ],
   "source": [
    "dst_crs = 'EPSG:4326'\n",
    "print('destination crs is: ', dst_crs)"
   ]
  },
  {
   "cell_type": "markdown",
   "metadata": {},
   "source": [
    "**Step 3 - Input the shape into our reproject function**\n",
    "\n",
    "Once our point is defined we can input it into our reproject function."
   ]
  },
  {
   "cell_type": "code",
   "execution_count": 11,
   "metadata": {},
   "outputs": [],
   "source": [
    "wgs84_point = reproject(utm_point, from_proj=src_crs, to_proj=dst_crs)\n",
    "wgs84_centroid = reproject(utm_centroid, from_proj=src_crs, to_proj=dst_crs)\n",
    "wgs84_bbox = reproject(utm_bbox, from_proj=src_crs, to_proj=dst_crs)"
   ]
  },
  {
   "cell_type": "code",
   "execution_count": 12,
   "metadata": {
    "scrolled": true
   },
   "outputs": [
    {
     "name": "stdout",
     "output_type": "stream",
     "text": [
      "random point:  POINT (0 -123)\n",
      "centroid:  POINT (35.15829721247052 -125.0943601493459)\n",
      "bounding box:  POLYGON ((34.49033534054283 -124.7446096774593, 35.83685310255475 -124.773613313877, 35.82496083874257 -125.4501069981971, 34.47901874476877 -125.4100634442505, 34.49033534054283 -124.7446096774593))\n"
     ]
    }
   ],
   "source": [
    "print('random point: ', wgs84_point)\n",
    "print('centroid: ', wgs84_centroid)\n",
    "print('bounding box: ', wgs84_bbox)"
   ]
  },
  {
   "cell_type": "markdown",
   "metadata": {},
   "source": [
    "# Reprojecting a raster << Work in Progress >>"
   ]
  },
  {
   "cell_type": "markdown",
   "metadata": {},
   "source": [
    "Reprojecting a raster is a bit more complicated than reprojecting vectors, but it is certainlly still doable.  The code I have below is largely based on the [rasterio docs](https://rasterio.readthedocs.io/en/latest/topics/reproject.html)."
   ]
  },
  {
   "cell_type": "code",
   "execution_count": 13,
   "metadata": {},
   "outputs": [],
   "source": [
    "import numpy as np\n",
    "import rasterio\n",
    "from rasterio.warp import calculate_default_transform, reproject, Resampling"
   ]
  },
  {
   "cell_type": "code",
   "execution_count": 14,
   "metadata": {},
   "outputs": [],
   "source": [
    "# Make the output directory if it does not exist yet\n",
    "import os\n",
    "if not os.path.exists('../output_data'):\n",
    "    os.makedirs('../output_data')"
   ]
  },
  {
   "cell_type": "code",
   "execution_count": 15,
   "metadata": {},
   "outputs": [
    {
     "name": "stdout",
     "output_type": "stream",
     "text": [
      "{'driver': 'ENVI', 'dtype': 'int16', 'nodata': None, 'width': 4142, 'height': 7972, 'count': 3, 'crs': 'EPSG:4326', 'transform': Affine(0.00017033327478689546, 0.0, -125.4501069981971,\n",
      "       0.0, -0.00017033327478689546, 35.83685310255474)}\n"
     ]
    }
   ],
   "source": [
    "dst_crs = 'EPSG:4326'\n",
    "\n",
    "# Get the info we need from the existing raster\n",
    "filepath_h2o = '../input_data/f150131t01p00r10_refl/f150131t01p00r10_h2o_v1'\n",
    "with rasterio.open(filepath_h2o, 'r') as src:\n",
    "    src_height, src_width = src.height, src.width\n",
    "    src_crs, src_transform = src.crs, src.transform\n",
    "    src_bounds = src.bounds\n",
    "    metadata = src.meta.copy()\n",
    "    bands = src.read()\n",
    "\n",
    "# Calculate the new height, width, and affine transform\n",
    "dst_transform, dst_width, dst_height = calculate_default_transform(src_crs, dst_crs, \n",
    "                                                                   src_width, src_height, *src_bounds)\n",
    "\n",
    "# Update the metadata with the new info\n",
    "metadata.update({\n",
    "    'crs': dst_crs,\n",
    "    'transform': dst_transform,\n",
    "    'width': dst_width,\n",
    "    'height': dst_height\n",
    "})\n",
    "\n",
    "# Create an empty raster for the output\n",
    "reprojected = np.full(bands.shape, np.nan)\n",
    "\n",
    "# Run the reprojection\n",
    "reproject(\n",
    "    source=bands,\n",
    "    destination=reprojected,\n",
    "    src_transform=src_transform,\n",
    "    src_crs=src_crs,\n",
    "    dst_transform=dst_transform,\n",
    "    dst_crs=dst_crs,\n",
    "    resampling=Resampling.nearest)\n",
    "\n",
    "print(metadata)\n",
    "# The array `reprojected` now has the output values and we can use that to save out the raster\n",
    "with rasterio.open(\n",
    "    '../output_data/reprojected',\n",
    "    'w',\n",
    "    **metadata\n",
    ") as dst:\n",
    "    dst.write(bands)"
   ]
  },
  {
   "cell_type": "markdown",
   "metadata": {},
   "source": [
    "The exact copy of this code from the docs is actually this:"
   ]
  },
  {
   "cell_type": "code",
   "execution_count": 16,
   "metadata": {},
   "outputs": [
    {
     "name": "stdout",
     "output_type": "stream",
     "text": [
      "{'driver': 'ENVI', 'dtype': 'int16', 'nodata': None, 'width': 4142, 'height': 7972, 'count': 3, 'crs': 'EPSG:4326', 'transform': Affine(0.00017033327478689546, 0.0, -125.4501069981971,\n",
      "       0.0, -0.00017033327478689546, 35.83685310255474)}\n"
     ]
    }
   ],
   "source": [
    "dst_crs = 'EPSG:4326'\n",
    "\n",
    "filepath_h2o = '../input_data/f150131t01p00r10_refl/f150131t01p00r10_h2o_v1'\n",
    "with rasterio.open(filepath_h2o) as src:\n",
    "    transform, width, height = calculate_default_transform(\n",
    "        src.crs, dst_crs, src.width, src.height, *src.bounds)\n",
    "    kwargs = src.meta.copy()\n",
    "    kwargs.update({\n",
    "        'crs': dst_crs,\n",
    "        'transform': transform,\n",
    "        'width': width,\n",
    "        'height': height\n",
    "    })\n",
    "    \n",
    "    print(kwargs)\n",
    "    with rasterio.open('../output_data/reprojected_h2o', 'w', **kwargs) as dst:\n",
    "        for i in range(1, src.count + 1):\n",
    "            reproject(\n",
    "                source=rasterio.band(src, i),\n",
    "                destination=rasterio.band(dst, i),\n",
    "                src_transform=src.transform,\n",
    "                src_crs=src.crs,\n",
    "                dst_transform=transform,\n",
    "                dst_crs=dst_crs,\n",
    "                resampling=Resampling.nearest)"
   ]
  },
  {
   "cell_type": "markdown",
   "metadata": {},
   "source": [
    "This code is much more concise than what I have above but it might also be more difficult to follow because it consolidates multiple steps in the same line."
   ]
  },
  {
   "cell_type": "code",
   "execution_count": null,
   "metadata": {},
   "outputs": [],
   "source": []
  }
 ],
 "metadata": {
  "kernelspec": {
   "display_name": "Python 3",
   "language": "python",
   "name": "python3"
  },
  "language_info": {
   "codemirror_mode": {
    "name": "ipython",
    "version": 3
   },
   "file_extension": ".py",
   "mimetype": "text/x-python",
   "name": "python",
   "nbconvert_exporter": "python",
   "pygments_lexer": "ipython3",
   "version": "3.8.1"
  }
 },
 "nbformat": 4,
 "nbformat_minor": 4
}
