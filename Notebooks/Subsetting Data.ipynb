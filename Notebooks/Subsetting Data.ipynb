{
 "cells": [
  {
   "cell_type": "markdown",
   "metadata": {},
   "source": [
    "# Subsetting your data"
   ]
  },
  {
   "cell_type": "markdown",
   "metadata": {},
   "source": [
    "Subsetting your data refers to selecting some amount of data to work with that is less than the whole image.  In Python I see two main ways to do this:\n",
    "1. manually by dropping data from your numpy array\n",
    "2. using rasterio's windowed reading\n",
    "\n",
    "The manual option is simplier, but has the limitations that\n",
    "* it is a little harder to save the output data to a new file\n",
    "* you still have to read the whole dataset into memory\n",
    "\n",
    "The rasterio option doesn't have these limitations, but is a bit more complicated."
   ]
  },
  {
   "cell_type": "markdown",
   "metadata": {},
   "source": [
    "## Reading the whole file and dropping the data from the numpy array"
   ]
  },
  {
   "cell_type": "markdown",
   "metadata": {},
   "source": [
    "Start by opening the file like normally with the `.read()` method."
   ]
  },
  {
   "cell_type": "code",
   "execution_count": 1,
   "metadata": {},
   "outputs": [],
   "source": [
    "import rasterio"
   ]
  },
  {
   "cell_type": "code",
   "execution_count": 2,
   "metadata": {},
   "outputs": [],
   "source": [
    "filepath_h2o = '../input_data/f150131t01p00r10_refl/f150131t01p00r10_h2o_v1'"
   ]
  },
  {
   "cell_type": "code",
   "execution_count": 3,
   "metadata": {},
   "outputs": [],
   "source": [
    "with rasterio.open(filepath_h2o, 'r') as src:\n",
    "    full_raster = src.read()"
   ]
  },
  {
   "cell_type": "code",
   "execution_count": 4,
   "metadata": {},
   "outputs": [
    {
     "data": {
      "text/plain": [
       "array([[[15536, 15536, 15536, ..., 15536, 15536, 15536],\n",
       "        [15536, 15536, 15536, ..., 15536, 15536, 15536],\n",
       "        [15536, 15536, 15536, ..., 15536, 15536, 15536],\n",
       "        ...,\n",
       "        [15536, 15536, 15536, ..., 15536, 15536, 15536],\n",
       "        [15536, 15536, 15536, ..., 15536, 15536, 15536],\n",
       "        [15536, 15536, 15536, ..., 15536, 15536, 15536]],\n",
       "\n",
       "       [[    0,     0,     0, ...,     0,     0,     0],\n",
       "        [    0,     0,     0, ...,     0,     0,     0],\n",
       "        [    0,     0,     0, ...,     0,     0,     0],\n",
       "        ...,\n",
       "        [    0,     0,     0, ...,     0,     0,     0],\n",
       "        [    0,     0,     0, ...,     0,     0,     0],\n",
       "        [    0,     0,     0, ...,     0,     0,     0]],\n",
       "\n",
       "       [[    0,     0,     0, ...,     0,     0,     0],\n",
       "        [    0,     0,     0, ...,     0,     0,     0],\n",
       "        [    0,     0,     0, ...,     0,     0,     0],\n",
       "        ...,\n",
       "        [   73,    76,    91, ...,    87,    91,    89],\n",
       "        [   73,    76,    91, ...,    87,    91,    89],\n",
       "        [   73,    76,    91, ...,    87,    91,    89]]], dtype=int16)"
      ]
     },
     "execution_count": 4,
     "metadata": {},
     "output_type": "execute_result"
    }
   ],
   "source": [
    "full_raster"
   ]
  },
  {
   "cell_type": "markdown",
   "metadata": {},
   "source": [
    "Say I want to  look at just the 1000-1800th row and 200-420th column.  I picked those numbers randomly, but if I wanted to determine my area of interest based off of a coordiante I could use the affine tranformation to convert the coordinate I want to the pixel number.  If the coordiantes of  my area of study were in latitude and longitude and my data in easting and northing I could use the `reproject` function to convert my lat/lon to easting/northing."
   ]
  },
  {
   "cell_type": "code",
   "execution_count": 5,
   "metadata": {},
   "outputs": [
    {
     "name": "stdout",
     "output_type": "stream",
     "text": [
      "full raster shape  (3, 8596, 2158)\n",
      "subset raster shape  (3, 800, 220)\n"
     ]
    }
   ],
   "source": [
    "print('full raster shape ', full_raster.shape)\n",
    "my_subset = full_raster[:,1000:1800, 200:420]\n",
    "print('subset raster shape ', my_subset.shape)"
   ]
  },
  {
   "cell_type": "markdown",
   "metadata": {},
   "source": [
    "There we have it, my subset raster."
   ]
  },
  {
   "cell_type": "markdown",
   "metadata": {},
   "source": [
    "## Windowed Reading"
   ]
  },
  {
   "cell_type": "markdown",
   "metadata": {},
   "source": [
    "A lot of the code from this section comes from the [rasterio docs](https://rasterio.readthedocs.io/en/latest/topics/windowed-rw.html)."
   ]
  },
  {
   "cell_type": "markdown",
   "metadata": {},
   "source": [
    "Windowed reading requires a bit more work up front, but it allows you to keep your transform geospatially updated in the event you want to save out your data.\n",
    "\n",
    "The syntax for a the subset chunk in rasterio is `Window` and the sytnax to use the `Window` object looks like this:\n",
    "\n",
    "> Window(col_offset, row_offset, width, height)\n",
    "\n",
    "So in the case of my 1000-1800th row and 200-420th column desire from the section above my window object would look like `Window(200, 1000, 220, 800)`."
   ]
  },
  {
   "cell_type": "code",
   "execution_count": 6,
   "metadata": {},
   "outputs": [],
   "source": [
    "import rasterio\n",
    "from rasterio.windows import Window"
   ]
  },
  {
   "cell_type": "code",
   "execution_count": 7,
   "metadata": {},
   "outputs": [],
   "source": [
    "filepath_h2o = '../input_data/f150131t01p00r10_refl/f150131t01p00r10_h2o_v1'\n",
    "filepath_img = '../input_data/f170508t01p00r11rdn_e/f170508t01p00r11rdn_e_sc01_ort_img'"
   ]
  },
  {
   "cell_type": "code",
   "execution_count": 8,
   "metadata": {},
   "outputs": [
    {
     "name": "stdout",
     "output_type": "stream",
     "text": [
      "(3, 800, 220)\n"
     ]
    }
   ],
   "source": [
    "with rasterio.open(filepath_h2o, 'r') as src:\n",
    "    window = Window(200, 1000, 220, 800)\n",
    "    window_subset = src.read(window=window)\n",
    "\n",
    "print(window_subset.shape)"
   ]
  },
  {
   "cell_type": "markdown",
   "metadata": {},
   "source": [
    "So my data looks just the same as above.  The advantage, however, is that the Window object does some math for us to keep track of how the transform has changed in the window. "
   ]
  },
  {
   "cell_type": "code",
   "execution_count": 9,
   "metadata": {},
   "outputs": [],
   "source": [
    "with rasterio.open(filepath_h2o, 'r') as src:\n",
    "    window = Window(200, 1000, 220, 800)\n",
    "    src_transform = src.transform\n",
    "    win_transform = src.window_transform(window)"
   ]
  },
  {
   "cell_type": "code",
   "execution_count": 10,
   "metadata": {},
   "outputs": [
    {
     "name": "stdout",
     "output_type": "stream",
     "text": [
      "source transform \n",
      " | 16.64,-2.93, 303895.60|\n",
      "|-2.93,-16.64, 3967305.20|\n",
      "| 0.00, 0.00, 1.00|\n",
      "window transform \n",
      " | 16.64,-2.93, 304289.60|\n",
      "|-2.93,-16.64, 3950075.02|\n",
      "| 0.00, 0.00, 1.00|\n"
     ]
    }
   ],
   "source": [
    "print('source transform \\n', src_transform)\n",
    "print('window transform \\n', win_transform)"
   ]
  },
  {
   "cell_type": "markdown",
   "metadata": {},
   "source": [
    "Having this affine makes it easy to save out our windowed data if we need to."
   ]
  },
  {
   "cell_type": "code",
   "execution_count": 11,
   "metadata": {},
   "outputs": [],
   "source": [
    "# Copy the metadata\n",
    "with rasterio.open(filepath_h2o, 'r') as src:\n",
    "    metadata = src.meta.copy()"
   ]
  },
  {
   "cell_type": "code",
   "execution_count": 12,
   "metadata": {},
   "outputs": [],
   "source": [
    "# Update relevant keys\n",
    "metadata.update(transform=win_transform, height=window.height, width=window.width)"
   ]
  },
  {
   "cell_type": "code",
   "execution_count": 13,
   "metadata": {},
   "outputs": [],
   "source": [
    "# Make the output directory if it does not exist yet\n",
    "import os\n",
    "if not os.path.exists('../output_data'):\n",
    "    os.makedirs('../output_data')"
   ]
  },
  {
   "cell_type": "code",
   "execution_count": 14,
   "metadata": {},
   "outputs": [],
   "source": [
    "# Save the raster\n",
    "with rasterio.open('../output_data/window_subset', 'w', **metadata) as dst:\n",
    "    dst.write(window_subset)"
   ]
  },
  {
   "cell_type": "code",
   "execution_count": null,
   "metadata": {},
   "outputs": [],
   "source": []
  }
 ],
 "metadata": {
  "kernelspec": {
   "display_name": "Python 3",
   "language": "python",
   "name": "python3"
  },
  "language_info": {
   "codemirror_mode": {
    "name": "ipython",
    "version": 3
   },
   "file_extension": ".py",
   "mimetype": "text/x-python",
   "name": "python",
   "nbconvert_exporter": "python",
   "pygments_lexer": "ipython3",
   "version": "3.8.1"
  }
 },
 "nbformat": 4,
 "nbformat_minor": 4
}
