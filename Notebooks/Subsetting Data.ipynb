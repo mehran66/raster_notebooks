{
 "cells": [
  {
   "cell_type": "markdown",
   "metadata": {},
   "source": [
    "# Subsetting your data"
   ]
  },
  {
   "cell_type": "markdown",
   "metadata": {},
   "source": [
    "Subsetting your data refers to selecting some amount of data to work with that is less than the whole image.  In Python I see two main ways to do this:\n",
    "1. manually by dropping data from your numpy array\n",
    "2. using rasterio's windowed reading methods\n",
    "\n",
    "The manual option is simplier, but has the limitations that\n",
    "* it is a little harder to save the output data to a new file\n",
    "* you still have to read the whole dataset into memory\n",
    "\n",
    "The rasterio option doesn't have these limitations, but is a bit more complicated."
   ]
  },
  {
   "cell_type": "code",
   "execution_count": null,
   "metadata": {},
   "outputs": [],
   "source": [
    "# All notebook imports\n",
    "import rasterio\n",
    "from rasterio.windows import Window\n",
    "import os"
   ]
  },
  {
   "cell_type": "markdown",
   "metadata": {},
   "source": [
    "## Reading the whole file and dropping the data from the numpy array"
   ]
  },
  {
   "cell_type": "markdown",
   "metadata": {},
   "source": [
    "Start by opening the file and reading the data with the `.read()` method."
   ]
  },
  {
   "cell_type": "code",
   "execution_count": 1,
   "metadata": {},
   "outputs": [],
   "source": [
    "import rasterio"
   ]
  },
  {
   "cell_type": "code",
   "execution_count": 2,
   "metadata": {},
   "outputs": [],
   "source": [
    "filepath_rad = '../input_data/f100520t01p00r08rdn_b/f100520t01p00r08rdn_b_sc01_ort_img'"
   ]
  },
  {
   "cell_type": "code",
   "execution_count": 3,
   "metadata": {},
   "outputs": [],
   "source": [
    "with rasterio.open(filepath_rad, 'r') as src:\n",
    "    full_raster = src.read()"
   ]
  },
  {
   "cell_type": "code",
   "execution_count": 4,
   "metadata": {},
   "outputs": [
    {
     "data": {
      "text/plain": [
       "array([[[-50, -50, -50, ..., -50, -50, -50],\n",
       "        [-50, -50, -50, ..., -50, -50, -50],\n",
       "        [-50, -50, -50, ..., -50, -50, -50],\n",
       "        ...,\n",
       "        [-50, -50, -50, ..., -50, -50, -50],\n",
       "        [-50, -50, -50, ..., -50, -50, -50],\n",
       "        [-50, -50, -50, ..., -50, -50, -50]],\n",
       "\n",
       "       [[-50, -50, -50, ..., -50, -50, -50],\n",
       "        [-50, -50, -50, ..., -50, -50, -50],\n",
       "        [-50, -50, -50, ..., -50, -50, -50],\n",
       "        ...,\n",
       "        [-50, -50, -50, ..., -50, -50, -50],\n",
       "        [-50, -50, -50, ..., -50, -50, -50],\n",
       "        [-50, -50, -50, ..., -50, -50, -50]],\n",
       "\n",
       "       [[-50, -50, -50, ..., -50, -50, -50],\n",
       "        [-50, -50, -50, ..., -50, -50, -50],\n",
       "        [-50, -50, -50, ..., -50, -50, -50],\n",
       "        ...,\n",
       "        [-50, -50, -50, ..., -50, -50, -50],\n",
       "        [-50, -50, -50, ..., -50, -50, -50],\n",
       "        [-50, -50, -50, ..., -50, -50, -50]],\n",
       "\n",
       "       ...,\n",
       "\n",
       "       [[-50, -50, -50, ..., -50, -50, -50],\n",
       "        [-50, -50, -50, ..., -50, -50, -50],\n",
       "        [-50, -50, -50, ..., -50, -50, -50],\n",
       "        ...,\n",
       "        [-50, -50, -50, ..., -50, -50, -50],\n",
       "        [-50, -50, -50, ..., -50, -50, -50],\n",
       "        [-50, -50, -50, ..., -50, -50, -50]],\n",
       "\n",
       "       [[-50, -50, -50, ..., -50, -50, -50],\n",
       "        [-50, -50, -50, ..., -50, -50, -50],\n",
       "        [-50, -50, -50, ..., -50, -50, -50],\n",
       "        ...,\n",
       "        [-50, -50, -50, ..., -50, -50, -50],\n",
       "        [-50, -50, -50, ..., -50, -50, -50],\n",
       "        [-50, -50, -50, ..., -50, -50, -50]],\n",
       "\n",
       "       [[-50, -50, -50, ..., -50, -50, -50],\n",
       "        [-50, -50, -50, ..., -50, -50, -50],\n",
       "        [-50, -50, -50, ..., -50, -50, -50],\n",
       "        ...,\n",
       "        [-50, -50, -50, ..., -50, -50, -50],\n",
       "        [-50, -50, -50, ..., -50, -50, -50],\n",
       "        [-50, -50, -50, ..., -50, -50, -50]]], dtype=int16)"
      ]
     },
     "execution_count": 4,
     "metadata": {},
     "output_type": "execute_result"
    }
   ],
   "source": [
    "full_raster"
   ]
  },
  {
   "cell_type": "markdown",
   "metadata": {},
   "source": [
    "Say I want to  look at just the 1000-1800th row and 200-420th column.  I would use those numbers to index my matrix."
   ]
  },
  {
   "cell_type": "code",
   "execution_count": 5,
   "metadata": {},
   "outputs": [
    {
     "name": "stdout",
     "output_type": "stream",
     "text": [
      "full raster shape  (224, 1684, 795)\n",
      "subset raster shape  (224, 684, 220)\n"
     ]
    }
   ],
   "source": [
    "print('full raster shape ', full_raster.shape)\n",
    "my_subset = full_raster[:,1000:1800, 200:420]\n",
    "print('subset raster shape ', my_subset.shape)"
   ]
  },
  {
   "cell_type": "code",
   "execution_count": 6,
   "metadata": {},
   "outputs": [
    {
     "data": {
      "text/plain": [
       "array([[[1397, 1403, 1388, ..., 1317, 1304, 1303],\n",
       "        [1394, 1400, 1401, ..., 1313, 1294, 1311],\n",
       "        [1398, 1389, 1396, ..., 1321, 1331, 1293],\n",
       "        ...,\n",
       "        [ -50,  -50,  -50, ...,  -50,  -50,  -50],\n",
       "        [ -50,  -50,  -50, ...,  -50,  -50,  -50],\n",
       "        [ -50,  -50,  -50, ...,  -50,  -50,  -50]],\n",
       "\n",
       "       [[1603, 1588, 1610, ..., 1490, 1465, 1479],\n",
       "        [1594, 1585, 1586, ..., 1495, 1470, 1478],\n",
       "        [1574, 1585, 1605, ..., 1484, 1493, 1462],\n",
       "        ...,\n",
       "        [ -50,  -50,  -50, ...,  -50,  -50,  -50],\n",
       "        [ -50,  -50,  -50, ...,  -50,  -50,  -50],\n",
       "        [ -50,  -50,  -50, ...,  -50,  -50,  -50]],\n",
       "\n",
       "       [[1674, 1666, 1669, ..., 1552, 1544, 1536],\n",
       "        [1660, 1646, 1677, ..., 1534, 1526, 1516],\n",
       "        [1666, 1662, 1684, ..., 1529, 1554, 1533],\n",
       "        ...,\n",
       "        [ -50,  -50,  -50, ...,  -50,  -50,  -50],\n",
       "        [ -50,  -50,  -50, ...,  -50,  -50,  -50],\n",
       "        [ -50,  -50,  -50, ...,  -50,  -50,  -50]],\n",
       "\n",
       "       ...,\n",
       "\n",
       "       [[   4,    1,    7, ...,    5,    2,    0],\n",
       "        [   5,    0,    5, ...,    2,    5,    4],\n",
       "        [   3,    7,    7, ...,    2,    2,    3],\n",
       "        ...,\n",
       "        [ -50,  -50,  -50, ...,  -50,  -50,  -50],\n",
       "        [ -50,  -50,  -50, ...,  -50,  -50,  -50],\n",
       "        [ -50,  -50,  -50, ...,  -50,  -50,  -50]],\n",
       "\n",
       "       [[   3,    1,   -1, ...,    1,   -3,    2],\n",
       "        [   1,    0,   -1, ...,    0,    1,    1],\n",
       "        [   0,    1,    0, ...,    1,    0,    0],\n",
       "        ...,\n",
       "        [ -50,  -50,  -50, ...,  -50,  -50,  -50],\n",
       "        [ -50,  -50,  -50, ...,  -50,  -50,  -50],\n",
       "        [ -50,  -50,  -50, ...,  -50,  -50,  -50]],\n",
       "\n",
       "       [[   2,   -2,    0, ...,   -1,   -1,    0],\n",
       "        [  -1,    0,    0, ...,    0,    3,    2],\n",
       "        [   0,    2,    0, ...,   -2,    0,    0],\n",
       "        ...,\n",
       "        [ -50,  -50,  -50, ...,  -50,  -50,  -50],\n",
       "        [ -50,  -50,  -50, ...,  -50,  -50,  -50],\n",
       "        [ -50,  -50,  -50, ...,  -50,  -50,  -50]]], dtype=int16)"
      ]
     },
     "execution_count": 6,
     "metadata": {},
     "output_type": "execute_result"
    }
   ],
   "source": [
    "my_subset"
   ]
  },
  {
   "cell_type": "markdown",
   "metadata": {},
   "source": [
    "There we have it, my subset raster."
   ]
  },
  {
   "cell_type": "markdown",
   "metadata": {},
   "source": [
    "With respect to the indexes I picked those numbers randomly.  However, if I wanted to determine my area of interest based off of some coordinates I could use the affine tranformation to convert the coordinate I want to the pixel number.  To go a step further, if the coordiantes of  my area of study were in latitude and longitude and my data in easting and northing I could use the `reproject` function to convert my lat/lon to easting/northing."
   ]
  },
  {
   "cell_type": "markdown",
   "metadata": {},
   "source": [
    "## Windowed Reading"
   ]
  },
  {
   "cell_type": "markdown",
   "metadata": {},
   "source": [
    "_A lot of the code from this section comes from the [rasterio docs](https://rasterio.readthedocs.io/en/latest/topics/windowed-rw.html)._"
   ]
  },
  {
   "cell_type": "markdown",
   "metadata": {},
   "source": [
    "Windowed reading requires a bit more work up front, but it allows you to keep your transform geospatially updated in the event you want to save out your data.  This method involves using a rasterio object called `Window` to access your subset instead of indexing it directly.\n",
    "\n",
    "The steps to this method are:\n",
    "1. create the window object\n",
    "2. read the data from `src` using the window"
   ]
  },
  {
   "cell_type": "markdown",
   "metadata": {},
   "source": [
    "### Creating the `Window` object"
   ]
  },
  {
   "cell_type": "markdown",
   "metadata": {},
   "source": [
    "The syntax for a the subset chunk in rasterio is `Window` and the sytnax to use the `Window` object looks like this:\n",
    "\n",
    "> Window(COLUMN_OFFSET, ROW_OFFSET, WIDTH, HEIGHT)\n",
    "\n",
    "The OFFSETs specify the row and column numbers of the upper left corner of your window.\n",
    "\n",
    "So getting the 1000-1800th row and 200-420th column with a window object would look like `Window(200, 1000, 220, 800)`."
   ]
  },
  {
   "cell_type": "code",
   "execution_count": 7,
   "metadata": {},
   "outputs": [],
   "source": [
    "from rasterio.windows import Window"
   ]
  },
  {
   "cell_type": "code",
   "execution_count": 8,
   "metadata": {},
   "outputs": [
    {
     "data": {
      "text/plain": [
       "Window(col_off=200, row_off=1000, width=220, height=800)"
      ]
     },
     "execution_count": 8,
     "metadata": {},
     "output_type": "execute_result"
    }
   ],
   "source": [
    "Window(200, 1000, 220, 800)"
   ]
  },
  {
   "cell_type": "markdown",
   "metadata": {},
   "source": [
    "Another way to create the window is to use the `.from_slices()` method.\n",
    "\n",
    "> Window.from_slices((ROW_START, ROW_STOP), (COLUMN_START, COLUMNS_STOP))"
   ]
  },
  {
   "cell_type": "code",
   "execution_count": 9,
   "metadata": {},
   "outputs": [
    {
     "data": {
      "text/plain": [
       "Window(col_off=200, row_off=1000, width=220, height=800)"
      ]
     },
     "execution_count": 9,
     "metadata": {},
     "output_type": "execute_result"
    }
   ],
   "source": [
    "Window.from_slices((1000, 1800), (200, 420))"
   ]
  },
  {
   "cell_type": "markdown",
   "metadata": {},
   "source": [
    "These two are equivalent ways to do the same thing, so we can can see in the output that this gives us the same window as above."
   ]
  },
  {
   "cell_type": "markdown",
   "metadata": {},
   "source": [
    "### Reading the data with the `Window`"
   ]
  },
  {
   "cell_type": "markdown",
   "metadata": {},
   "source": [
    "To read the data out we use our regular `src.read()` method but this time we specify `window`."
   ]
  },
  {
   "cell_type": "code",
   "execution_count": 10,
   "metadata": {},
   "outputs": [],
   "source": [
    "import rasterio"
   ]
  },
  {
   "cell_type": "code",
   "execution_count": 11,
   "metadata": {},
   "outputs": [
    {
     "name": "stdout",
     "output_type": "stream",
     "text": [
      "[[[1397 1403 1388 ... 1317 1304 1303]\n",
      "  [1394 1400 1401 ... 1313 1294 1311]\n",
      "  [1398 1389 1396 ... 1321 1331 1293]\n",
      "  ...\n",
      "  [ -50  -50  -50 ...  -50  -50  -50]\n",
      "  [ -50  -50  -50 ...  -50  -50  -50]\n",
      "  [ -50  -50  -50 ...  -50  -50  -50]]\n",
      "\n",
      " [[1603 1588 1610 ... 1490 1465 1479]\n",
      "  [1594 1585 1586 ... 1495 1470 1478]\n",
      "  [1574 1585 1605 ... 1484 1493 1462]\n",
      "  ...\n",
      "  [ -50  -50  -50 ...  -50  -50  -50]\n",
      "  [ -50  -50  -50 ...  -50  -50  -50]\n",
      "  [ -50  -50  -50 ...  -50  -50  -50]]\n",
      "\n",
      " [[1674 1666 1669 ... 1552 1544 1536]\n",
      "  [1660 1646 1677 ... 1534 1526 1516]\n",
      "  [1666 1662 1684 ... 1529 1554 1533]\n",
      "  ...\n",
      "  [ -50  -50  -50 ...  -50  -50  -50]\n",
      "  [ -50  -50  -50 ...  -50  -50  -50]\n",
      "  [ -50  -50  -50 ...  -50  -50  -50]]\n",
      "\n",
      " ...\n",
      "\n",
      " [[   4    1    7 ...    5    2    0]\n",
      "  [   5    0    5 ...    2    5    4]\n",
      "  [   3    7    7 ...    2    2    3]\n",
      "  ...\n",
      "  [ -50  -50  -50 ...  -50  -50  -50]\n",
      "  [ -50  -50  -50 ...  -50  -50  -50]\n",
      "  [ -50  -50  -50 ...  -50  -50  -50]]\n",
      "\n",
      " [[   3    1   -1 ...    1   -3    2]\n",
      "  [   1    0   -1 ...    0    1    1]\n",
      "  [   0    1    0 ...    1    0    0]\n",
      "  ...\n",
      "  [ -50  -50  -50 ...  -50  -50  -50]\n",
      "  [ -50  -50  -50 ...  -50  -50  -50]\n",
      "  [ -50  -50  -50 ...  -50  -50  -50]]\n",
      "\n",
      " [[   2   -2    0 ...   -1   -1    0]\n",
      "  [  -1    0    0 ...    0    3    2]\n",
      "  [   0    2    0 ...   -2    0    0]\n",
      "  ...\n",
      "  [ -50  -50  -50 ...  -50  -50  -50]\n",
      "  [ -50  -50  -50 ...  -50  -50  -50]\n",
      "  [ -50  -50  -50 ...  -50  -50  -50]]]\n"
     ]
    }
   ],
   "source": [
    "with rasterio.open(filepath_rad, 'r') as src:\n",
    "    my_window = Window(200, 1000, 220, 800)\n",
    "    window_subset = src.read(window=my_window)\n",
    "\n",
    "print(window_subset)"
   ]
  },
  {
   "cell_type": "markdown",
   "metadata": {},
   "source": [
    "So my data looks just the same as above.  The advantage, however, is that the Window object does some math for us to keep track of how the transform has changed in the window. "
   ]
  },
  {
   "cell_type": "code",
   "execution_count": 12,
   "metadata": {},
   "outputs": [],
   "source": [
    "with rasterio.open(filepath_rad, 'r') as src:\n",
    "    window = Window(200, 1000, 220, 800)\n",
    "    src_transform = src.transform\n",
    "    win_transform = src.window_transform(window)"
   ]
  },
  {
   "cell_type": "code",
   "execution_count": 13,
   "metadata": {},
   "outputs": [
    {
     "name": "stdout",
     "output_type": "stream",
     "text": [
      "source transform \n",
      " | 0.00, 17.10, 475785.77|\n",
      "| 17.10,-0.00, 3350578.50|\n",
      "| 0.00, 0.00, 1.00|\n",
      "window transform \n",
      " | 0.00, 17.10, 492885.77|\n",
      "| 17.10,-0.00, 3353998.50|\n",
      "| 0.00, 0.00, 1.00|\n"
     ]
    }
   ],
   "source": [
    "print('source transform \\n', src_transform)\n",
    "print('window transform \\n', win_transform)"
   ]
  },
  {
   "cell_type": "markdown",
   "metadata": {},
   "source": [
    "Having this affine makes it easy to save out our windowed data if we need to."
   ]
  },
  {
   "cell_type": "code",
   "execution_count": 14,
   "metadata": {},
   "outputs": [],
   "source": [
    "# Copy the existing metadata\n",
    "with rasterio.open(filepath_rad, 'r') as src:\n",
    "    metadata = src.meta.copy()"
   ]
  },
  {
   "cell_type": "code",
   "execution_count": 15,
   "metadata": {},
   "outputs": [],
   "source": [
    "# Update relevant keys\n",
    "metadata.update(transform=win_transform, height=window.height, width=window.width)"
   ]
  },
  {
   "cell_type": "code",
   "execution_count": 16,
   "metadata": {},
   "outputs": [],
   "source": [
    "# Make the output directory if it does not exist yet\n",
    "import os\n",
    "if not os.path.exists('../output_data'):\n",
    "    os.makedirs('../output_data')"
   ]
  },
  {
   "cell_type": "code",
   "execution_count": 17,
   "metadata": {},
   "outputs": [],
   "source": [
    "# Save the raster\n",
    "with rasterio.open('../output_data/subset_raster', 'w', **metadata) as dst:\n",
    "    dst.write(window_subset)"
   ]
  },
  {
   "cell_type": "code",
   "execution_count": null,
   "metadata": {},
   "outputs": [],
   "source": []
  }
 ],
 "metadata": {
  "kernelspec": {
   "display_name": "Python 3",
   "language": "python",
   "name": "python3"
  },
  "language_info": {
   "codemirror_mode": {
    "name": "ipython",
    "version": 3
   },
   "file_extension": ".py",
   "mimetype": "text/x-python",
   "name": "python",
   "nbconvert_exporter": "python",
   "pygments_lexer": "ipython3",
   "version": "3.8.1"
  }
 },
 "nbformat": 4,
 "nbformat_minor": 4
}
