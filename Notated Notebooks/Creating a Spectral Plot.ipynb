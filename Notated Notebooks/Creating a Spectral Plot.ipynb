{
 "cells": [
  {
   "cell_type": "markdown",
   "metadata": {},
   "source": [
    "# Creating a spectral plot"
   ]
  },
  {
   "cell_type": "markdown",
   "metadata": {},
   "source": [
    "One exercise to go through to practice some of the code that is talked about in other notebooks is to create a spectral plot.  Doing this involves opening each band of a raster and pulling out a specific pixel's value.  If the raster is small enough we wouldn't have to do this for a single point it would be easy enough to load the whole raster into memory.  If your raster is more than a few gigbytes, however this may not be an option."
   ]
  },
  {
   "cell_type": "markdown",
   "metadata": {},
   "source": [
    "### Extracting the data"
   ]
  },
  {
   "cell_type": "code",
   "execution_count": 1,
   "metadata": {},
   "outputs": [],
   "source": [
    "import numpy as np\n",
    "import rasterio"
   ]
  },
  {
   "cell_type": "code",
   "execution_count": 2,
   "metadata": {},
   "outputs": [],
   "source": [
    "filepath_h20 = '../input_data/f150131t01p00r10_refl/f150131t01p00r10_h2o_v1'\n",
    "filepath_img = '../input_data/f170508t01p00r11rdn_e/f170508t01p00r11rdn_e_sc01_ort_img'"
   ]
  },
  {
   "cell_type": "code",
   "execution_count": 3,
   "metadata": {},
   "outputs": [],
   "source": [
    "# Specify the row and column of the pixel whose values you want to plot\n",
    "row, col = (0, 1593)"
   ]
  },
  {
   "cell_type": "code",
   "execution_count": 4,
   "metadata": {
    "scrolled": false
   },
   "outputs": [
    {
     "name": "stdout",
     "output_type": "stream",
     "text": [
      "added a new value to the array  3477\n",
      "added a new value to the array  4144\n",
      "added a new value to the array  4568\n",
      "added a new value to the array  5887\n",
      "added a new value to the array  8187\n",
      "added a new value to the array  8801\n",
      "added a new value to the array  8652\n",
      "added a new value to the array  8690\n",
      "added a new value to the array  9895\n",
      "added a new value to the array  10596\n",
      "added a new value to the array  10639\n",
      "added a new value to the array  10613\n",
      "added a new value to the array  10427\n",
      "added a new value to the array  10122\n",
      "added a new value to the array  9932\n",
      "added a new value to the array  9672\n",
      "added a new value to the array  9320\n",
      "added a new value to the array  9348\n",
      "added a new value to the array  9373\n",
      "added a new value to the array  9281\n",
      "added a new value to the array  9048\n",
      "added a new value to the array  8943\n",
      "added a new value to the array  8916\n",
      "added a new value to the array  8675\n",
      "added a new value to the array  8613\n",
      "added a new value to the array  8389\n",
      "added a new value to the array  8247\n",
      "added a new value to the array  8115\n",
      "added a new value to the array  8053\n",
      "added a new value to the array  7945\n",
      "added a new value to the array  7700\n",
      "added a new value to the array  7792\n",
      "added a new value to the array  7678\n",
      "added a new value to the array  7804\n",
      "added a new value to the array  7704\n",
      "added a new value to the array  7320\n",
      "added a new value to the array  7293\n",
      "added a new value to the array  7208\n",
      "added a new value to the array  7006\n",
      "added a new value to the array  6833\n",
      "added a new value to the array  6707\n",
      "added a new value to the array  6555\n",
      "added a new value to the array  6328\n",
      "added a new value to the array  5315\n",
      "added a new value to the array  5988\n",
      "added a new value to the array  6027\n",
      "added a new value to the array  5876\n",
      "added a new value to the array  5744\n",
      "added a new value to the array  5602\n",
      "added a new value to the array  5438\n",
      "added a new value to the array  5348\n",
      "added a new value to the array  5263\n",
      "added a new value to the array  5029\n",
      "added a new value to the array  4888\n",
      "added a new value to the array  4772\n",
      "added a new value to the array  4721\n",
      "added a new value to the array  4615\n",
      "added a new value to the array  4494\n",
      "added a new value to the array  4369\n",
      "added a new value to the array  4273\n",
      "added a new value to the array  4153\n",
      "added a new value to the array  4061\n",
      "added a new value to the array  3873\n",
      "added a new value to the array  3802\n",
      "added a new value to the array  3727\n",
      "added a new value to the array  3626\n",
      "added a new value to the array  3522\n",
      "added a new value to the array  3387\n",
      "added a new value to the array  3236\n",
      "added a new value to the array  3165\n",
      "added a new value to the array  3073\n",
      "added a new value to the array  2984\n",
      "added a new value to the array  2931\n",
      "added a new value to the array  2897\n",
      "added a new value to the array  2854\n",
      "added a new value to the array  2824\n",
      "added a new value to the array  2767\n",
      "added a new value to the array  2708\n",
      "added a new value to the array  2680\n",
      "added a new value to the array  2648\n",
      "added a new value to the array  2518\n",
      "added a new value to the array  2447\n",
      "added a new value to the array  2403\n",
      "added a new value to the array  2371\n",
      "added a new value to the array  2321\n",
      "added a new value to the array  2245\n",
      "added a new value to the array  2148\n",
      "added a new value to the array  2046\n",
      "added a new value to the array  1953\n",
      "added a new value to the array  1854\n",
      "added a new value to the array  1803\n",
      "added a new value to the array  1743\n",
      "added a new value to the array  1691\n",
      "added a new value to the array  1638\n",
      "added a new value to the array  1595\n",
      "added a new value to the array  1514\n",
      "added a new value to the array  1598\n",
      "added a new value to the array  1517\n",
      "added a new value to the array  1499\n",
      "added a new value to the array  1494\n",
      "added a new value to the array  1516\n",
      "added a new value to the array  1506\n",
      "added a new value to the array  1477\n",
      "added a new value to the array  1406\n",
      "added a new value to the array  1444\n",
      "added a new value to the array  1419\n",
      "added a new value to the array  1342\n",
      "added a new value to the array  1207\n",
      "added a new value to the array  1178\n",
      "added a new value to the array  1140\n",
      "added a new value to the array  2281\n",
      "added a new value to the array  2221\n",
      "added a new value to the array  2148\n",
      "added a new value to the array  1964\n",
      "added a new value to the array  1645\n",
      "added a new value to the array  1380\n",
      "added a new value to the array  1137\n",
      "added a new value to the array  883\n",
      "added a new value to the array  701\n",
      "added a new value to the array  579\n",
      "added a new value to the array  511\n",
      "added a new value to the array  488\n",
      "added a new value to the array  507\n",
      "added a new value to the array  515\n",
      "added a new value to the array  524\n",
      "added a new value to the array  535\n",
      "added a new value to the array  560\n",
      "added a new value to the array  576\n",
      "added a new value to the array  590\n",
      "added a new value to the array  632\n",
      "added a new value to the array  667\n",
      "added a new value to the array  693\n",
      "added a new value to the array  703\n",
      "added a new value to the array  722\n",
      "added a new value to the array  719\n",
      "added a new value to the array  700\n",
      "added a new value to the array  724\n",
      "added a new value to the array  752\n",
      "added a new value to the array  760\n",
      "added a new value to the array  780\n",
      "added a new value to the array  801\n",
      "added a new value to the array  819\n",
      "added a new value to the array  820\n",
      "added a new value to the array  840\n",
      "added a new value to the array  830\n",
      "added a new value to the array  819\n",
      "added a new value to the array  845\n",
      "added a new value to the array  844\n",
      "added a new value to the array  832\n",
      "added a new value to the array  828\n",
      "added a new value to the array  821\n",
      "added a new value to the array  801\n",
      "added a new value to the array  783\n",
      "added a new value to the array  756\n",
      "added a new value to the array  741\n",
      "added a new value to the array  685\n",
      "added a new value to the array  668\n",
      "added a new value to the array  658\n",
      "added a new value to the array  565\n",
      "added a new value to the array  526\n",
      "added a new value to the array  1201\n",
      "added a new value to the array  1046\n",
      "added a new value to the array  979\n",
      "added a new value to the array  814\n",
      "added a new value to the array  656\n",
      "added a new value to the array  538\n",
      "added a new value to the array  426\n",
      "added a new value to the array  347\n",
      "added a new value to the array  267\n",
      "added a new value to the array  217\n",
      "added a new value to the array  207\n",
      "added a new value to the array  206\n",
      "added a new value to the array  192\n",
      "added a new value to the array  160\n",
      "added a new value to the array  139\n",
      "added a new value to the array  159\n",
      "added a new value to the array  188\n",
      "added a new value to the array  195\n",
      "added a new value to the array  185\n",
      "added a new value to the array  187\n",
      "added a new value to the array  209\n",
      "added a new value to the array  244\n",
      "added a new value to the array  270\n",
      "added a new value to the array  307\n",
      "added a new value to the array  343\n",
      "added a new value to the array  387\n",
      "added a new value to the array  436\n",
      "added a new value to the array  481\n",
      "added a new value to the array  517\n",
      "added a new value to the array  547\n",
      "added a new value to the array  564\n",
      "added a new value to the array  601\n",
      "added a new value to the array  623\n",
      "added a new value to the array  642\n",
      "added a new value to the array  672\n",
      "added a new value to the array  690\n",
      "added a new value to the array  687\n",
      "added a new value to the array  684\n",
      "added a new value to the array  675\n",
      "added a new value to the array  647\n",
      "added a new value to the array  625\n",
      "added a new value to the array  585\n",
      "added a new value to the array  544\n",
      "added a new value to the array  497\n",
      "added a new value to the array  468\n",
      "added a new value to the array  418\n",
      "added a new value to the array  395\n",
      "added a new value to the array  365\n",
      "added a new value to the array  337\n",
      "added a new value to the array  320\n",
      "added a new value to the array  304\n",
      "added a new value to the array  294\n",
      "added a new value to the array  285\n",
      "added a new value to the array  279\n",
      "added a new value to the array  272\n",
      "added a new value to the array  266\n",
      "added a new value to the array  259\n",
      "added a new value to the array  254\n",
      "added a new value to the array  241\n",
      "added a new value to the array  234\n",
      "added a new value to the array  231\n",
      "added a new value to the array  215\n",
      "added a new value to the array  205\n",
      "added a new value to the array  201\n",
      "CPU times: user 25.7 s, sys: 7min 31s, total: 7min 57s\n",
      "Wall time: 9min 46s\n"
     ]
    }
   ],
   "source": [
    "%%time\n",
    "with rasterio.open(filepath_img, 'r') as src:\n",
    "    array = np.full(src.count, np.nan)\n",
    "    for i in src.indexes:\n",
    "        # Read the layer from the Dataset Reader object\n",
    "        new_value = src.read(i)[row, col]\n",
    "        # Because the indexes are start from 1 but the elements of an array start from 0 we need to adjust \n",
    "        # by setting the new_value to the position i-1 \n",
    "        array[i-1] = new_value\n",
    "        print('added a new value to the array ', new_value)"
   ]
  },
  {
   "cell_type": "markdown",
   "metadata": {},
   "source": [
    "### Make the plot"
   ]
  },
  {
   "cell_type": "code",
   "execution_count": 5,
   "metadata": {
    "scrolled": false
   },
   "outputs": [],
   "source": [
    "import matplotlib.pyplot as plt "
   ]
  },
  {
   "cell_type": "code",
   "execution_count": 6,
   "metadata": {},
   "outputs": [],
   "source": [
    "# Get the indexes from the raster\n",
    "with rasterio.open(filepath_img, 'r') as src:\n",
    "    indexes = src.indexes"
   ]
  },
  {
   "cell_type": "code",
   "execution_count": 7,
   "metadata": {},
   "outputs": [
    {
     "data": {
      "image/png": "[encoded data removed]",
      "text/plain": [
       "<Figure size 432x288 with 1 Axes>"
      ]
     },
     "metadata": {
      "needs_background": "light"
     },
     "output_type": "display_data"
    }
   ],
   "source": [
    "plt.plot(indexes, array)\n",
    "plt.xlabel('band number') \n",
    "# naming the y axis \n",
    "plt.ylabel('reflectance value') \n",
    "  \n",
    "# giving a title to my graph \n",
    "plt.title('Spectral Plot') \n",
    "\n",
    "# function to show the plot \n",
    "plt.show()"
   ]
  },
  {
   "cell_type": "markdown",
   "metadata": {},
   "source": [
    "I used band number in this plot because it was easy, but you might be more interested in plotting the actual wavelenght.  If you have of wavelengths you could just as easily use those values on the x-axis."
   ]
  },
  {
   "cell_type": "code",
   "execution_count": 8,
   "metadata": {},
   "outputs": [],
   "source": [
    "import numpy as np"
   ]
  },
  {
   "cell_type": "code",
   "execution_count": 9,
   "metadata": {},
   "outputs": [],
   "source": [
    "my_fake_wavelengths = np.linspace(start=400, stop=2450, num=224)"
   ]
  },
  {
   "cell_type": "code",
   "execution_count": 10,
   "metadata": {},
   "outputs": [
    {
     "data": {
      "image/png": "[encoded data removed]",
      "text/plain": [
       "<Figure size 432x288 with 1 Axes>"
      ]
     },
     "metadata": {
      "needs_background": "light"
     },
     "output_type": "display_data"
    }
   ],
   "source": [
    "plt.plot(my_fake_wavelengths, array)\n",
    "plt.xlabel('my fake wavelengths (nm)') \n",
    "# naming the y axis \n",
    "plt.ylabel('radiance value') \n",
    "  \n",
    "# giving a title to my graph \n",
    "plt.title('Spectral Plot') \n",
    "\n",
    "# function to show the plot \n",
    "plt.show()"
   ]
  },
  {
   "cell_type": "code",
   "execution_count": null,
   "metadata": {},
   "outputs": [],
   "source": []
  }
 ],
 "metadata": {
  "kernelspec": {
   "display_name": "Python 3",
   "language": "python",
   "name": "python3"
  },
  "language_info": {
   "codemirror_mode": {
    "name": "ipython",
    "version": 3
   },
   "file_extension": ".py",
   "mimetype": "text/x-python",
   "name": "python",
   "nbconvert_exporter": "python",
   "pygments_lexer": "ipython3",
   "version": "3.8.1"
  }
 },
 "nbformat": 4,
 "nbformat_minor": 4
}
